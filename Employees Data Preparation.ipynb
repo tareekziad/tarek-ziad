{
 "cells": [
  {
   "cell_type": "markdown",
   "id": "3bd89d8d",
   "metadata": {},
   "source": [
    "# Employees Promotion Data Preparation Project"
   ]
  },
  {
   "cell_type": "markdown",
   "id": "ce42ec68",
   "metadata": {},
   "source": [
    "### About Dataset"
   ]
  },
  {
   "cell_type": "markdown",
   "id": "67703cdd",
   "metadata": {},
   "source": [
    "The HR team stored data of promotion cycle last year, which consists of details of all the employees in the company working last year and also if they got promoted or not, but every time this process gets delayed due to so many details available for each employee - it gets difficult to compare and decide.\n",
    "So this time HR team wants to utilize the stored data to make a model, that will predict if a person is eligible for promotion or not.\n",
    "Need to come up with a model that will help the HR team to predict if a person is eligible for promotion or not."
   ]
  },
  {
   "cell_type": "markdown",
   "id": "99061215",
   "metadata": {},
   "source": [
    "### Objectives "
   ]
  },
  {
   "cell_type": "markdown",
   "id": "fdddde7b",
   "metadata": {},
   "source": [
    "* Data Cleansing and Preparation "
   ]
  },
  {
   "cell_type": "markdown",
   "id": "3a04b160",
   "metadata": {},
   "source": [
    "### Data Dictionary"
   ]
  },
  {
   "cell_type": "markdown",
   "id": "16c9869d",
   "metadata": {},
   "source": [
    "* employeeid: Unique ID for the employee \n",
    "* department: Department of employee \n",
    "* region: Region of employment (unordered) \n",
    "* education: Education Level \n",
    "* gender: Gender of Employee \n",
    "* recruitmentchannel: Channel of recruitment for employee\n",
    "* no_ of_ trainings: no of other trainings completed in the previous year on soft skills, technical skills, etc.\n",
    "* age: Age of Employee\n",
    "* previous_ year_ rating: Employee Rating for the previous year\n",
    "* length_ of_ service: Length of service in years\n",
    "* awards_ won: if awards won during the previous year \n",
    "* avg_ training_ score: Average score in current training evaluations\n",
    "* is_promoted: Recommended for promotion"
   ]
  },
  {
   "cell_type": "markdown",
   "id": "00ae9d14",
   "metadata": {},
   "source": [
    "### Import Some Hepler Modules"
   ]
  },
  {
   "cell_type": "code",
   "execution_count": 2214,
   "id": "6da624af",
   "metadata": {},
   "outputs": [],
   "source": [
    "import pandas as pd \n",
    "import numpy as np \n",
    "import seaborn as sns\n",
    "import matplotlib.pyplot as plt \n",
    "import warnings"
   ]
  },
  {
   "cell_type": "code",
   "execution_count": 2215,
   "id": "2fbacf02",
   "metadata": {},
   "outputs": [],
   "source": [
    "from datasist.structdata import detect_outliers\n",
    "import missingno as msno\n",
    "from sklearn.model_selection import train_test_split\n",
    "from sklearn.preprocessing import LabelEncoder , OneHotEncoder\n",
    "from sklearn.impute import SimpleImputer , KNNImputer\n",
    "from category_encoders import BinaryEncoder\n",
    "from imblearn.under_sampling import RandomUnderSampler"
   ]
  },
  {
   "cell_type": "code",
   "execution_count": 2216,
   "id": "0be80c32",
   "metadata": {},
   "outputs": [],
   "source": [
    "sns.set_theme(context = 'paper' , style = 'darkgrid' , palette = 'afmhot' , font_scale = 1 , \n",
    "              rc = {'figure.figsize' : (5,5)})"
   ]
  },
  {
   "cell_type": "code",
   "execution_count": 2217,
   "id": "d89bb23d",
   "metadata": {},
   "outputs": [],
   "source": [
    "%matplotlib inline"
   ]
  },
  {
   "cell_type": "code",
   "execution_count": 2218,
   "id": "fce6316f",
   "metadata": {},
   "outputs": [],
   "source": [
    "warnings.filterwarnings('ignore')"
   ]
  },
  {
   "cell_type": "code",
   "execution_count": 2219,
   "id": "f49f1500",
   "metadata": {},
   "outputs": [],
   "source": [
    "def Detect_Outlier(data , col):\n",
    "    des = data[col].describe()\n",
    "    IQR = des['75%'] - des['25%']\n",
    "    minw , maxw = des['25%'] - (1.5 * IQR) , des['75%'] + (1.5 * IQR)\n",
    "    otlier = data[(data[col] < minw) | (data[col] > maxw)].index\n",
    "    return otlier\n",
    "\n",
    "    \n",
    "def Label_Encoding(col):\n",
    "    le = LabelEncoder()\n",
    "    col = pd.Series(data = le.fit_transform(col) , index = col.index)\n",
    "    return col \n",
    "\n",
    "\n",
    "def Binary_Encoder(data , col):\n",
    "    BE = BinaryEncoder()\n",
    "    data = pd.concat([data , BE.fit_transform(data[[col]])] , axis = 1)\n",
    "    data.drop([col] , axis = 1 , inplace = True)\n",
    "    return data \n",
    "\n",
    "\n",
    "def One_Hot_Encoder(data , col):\n",
    "    OHE = OneHotEncoder(sparse = False , drop = 'first')\n",
    "    data = pd.concat([data , pd.DataFrame(OHE.fit_transform(data[[col]]) ,\n",
    "                                          columns = OHE.get_feature_names_out())] , axis = 1)\n",
    "    data.drop([col] , axis = 1 , inplace = True)\n",
    "    return data\n",
    "\n",
    "\n",
    "\n",
    "mapper = {'NO' : 0 , 'YES' : 1}"
   ]
  },
  {
   "cell_type": "markdown",
   "id": "6f858614",
   "metadata": {},
   "source": [
    "#### Read DataSet"
   ]
  },
  {
   "cell_type": "code",
   "execution_count": 2220,
   "id": "b1183778",
   "metadata": {},
   "outputs": [],
   "source": [
    "df = pd.read_csv('Employees Promotion V1.csv')"
   ]
  },
  {
   "cell_type": "code",
   "execution_count": 2221,
   "id": "407c6723",
   "metadata": {
    "scrolled": false
   },
   "outputs": [
    {
     "data": {
      "text/html": [
       "<div>\n",
       "<style scoped>\n",
       "    .dataframe tbody tr th:only-of-type {\n",
       "        vertical-align: middle;\n",
       "    }\n",
       "\n",
       "    .dataframe tbody tr th {\n",
       "        vertical-align: top;\n",
       "    }\n",
       "\n",
       "    .dataframe thead th {\n",
       "        text-align: right;\n",
       "    }\n",
       "</style>\n",
       "<table border=\"1\" class=\"dataframe\">\n",
       "  <thead>\n",
       "    <tr style=\"text-align: right;\">\n",
       "      <th></th>\n",
       "      <th>EmployeeID</th>\n",
       "      <th>Department</th>\n",
       "      <th>Region_Employment</th>\n",
       "      <th>Education Level</th>\n",
       "      <th>Gender</th>\n",
       "      <th>Recruitment Channel</th>\n",
       "      <th>NO_Trainings_LstYear</th>\n",
       "      <th>Age</th>\n",
       "      <th>previous_year_rating</th>\n",
       "      <th>Service Length</th>\n",
       "      <th>Awards</th>\n",
       "      <th>Avg_Training_Score</th>\n",
       "      <th>Is Promoted</th>\n",
       "    </tr>\n",
       "  </thead>\n",
       "  <tbody>\n",
       "    <tr>\n",
       "      <th>0</th>\n",
       "      <td>65438</td>\n",
       "      <td>Sales &amp; Marketing</td>\n",
       "      <td>region_7</td>\n",
       "      <td>Master's &amp; above</td>\n",
       "      <td>f</td>\n",
       "      <td>sourcing</td>\n",
       "      <td>1</td>\n",
       "      <td>35.0</td>\n",
       "      <td>5.0</td>\n",
       "      <td>8</td>\n",
       "      <td>NO</td>\n",
       "      <td>49.0</td>\n",
       "      <td>NO</td>\n",
       "    </tr>\n",
       "    <tr>\n",
       "      <th>1</th>\n",
       "      <td>65141</td>\n",
       "      <td>Operations</td>\n",
       "      <td>region_22</td>\n",
       "      <td>Bachelor's</td>\n",
       "      <td>m</td>\n",
       "      <td>other</td>\n",
       "      <td>1</td>\n",
       "      <td>30.0</td>\n",
       "      <td>5.0</td>\n",
       "      <td>4</td>\n",
       "      <td>NO</td>\n",
       "      <td>60.0</td>\n",
       "      <td>NO</td>\n",
       "    </tr>\n",
       "    <tr>\n",
       "      <th>2</th>\n",
       "      <td>7513</td>\n",
       "      <td>Sales &amp; Marketing</td>\n",
       "      <td>region_19</td>\n",
       "      <td>Bachelor's</td>\n",
       "      <td>m</td>\n",
       "      <td>sourcing</td>\n",
       "      <td>1</td>\n",
       "      <td>34.0</td>\n",
       "      <td>3.0</td>\n",
       "      <td>7</td>\n",
       "      <td>NO</td>\n",
       "      <td>50.0</td>\n",
       "      <td>NO</td>\n",
       "    </tr>\n",
       "  </tbody>\n",
       "</table>\n",
       "</div>"
      ],
      "text/plain": [
       "   EmployeeID         Department Region_Employment   Education Level Gender  \\\n",
       "0       65438  Sales & Marketing          region_7  Master's & above      f   \n",
       "1       65141         Operations         region_22        Bachelor's      m   \n",
       "2        7513  Sales & Marketing         region_19        Bachelor's      m   \n",
       "\n",
       "  Recruitment Channel  NO_Trainings_LstYear   Age  previous_year_rating  \\\n",
       "0            sourcing                     1  35.0                   5.0   \n",
       "1               other                     1  30.0                   5.0   \n",
       "2            sourcing                     1  34.0                   3.0   \n",
       "\n",
       "   Service Length Awards  Avg_Training_Score Is Promoted  \n",
       "0               8     NO                49.0          NO  \n",
       "1               4     NO                60.0          NO  \n",
       "2               7     NO                50.0          NO  "
      ]
     },
     "execution_count": 2221,
     "metadata": {},
     "output_type": "execute_result"
    }
   ],
   "source": [
    "df.head(3)"
   ]
  },
  {
   "cell_type": "markdown",
   "id": "d018fec2",
   "metadata": {},
   "source": [
    "###### Drop Unneeded Columns"
   ]
  },
  {
   "cell_type": "code",
   "execution_count": 2222,
   "id": "08bf622f",
   "metadata": {},
   "outputs": [],
   "source": [
    "df.drop(['EmployeeID'] , axis = 1 , inplace = True)"
   ]
  },
  {
   "cell_type": "markdown",
   "id": "500f24ca",
   "metadata": {},
   "source": [
    "###### Split Data into train & test "
   ]
  },
  {
   "cell_type": "code",
   "execution_count": 2223,
   "id": "19aa16ac",
   "metadata": {},
   "outputs": [],
   "source": [
    "x = df.drop(['Is Promoted'] , axis = 1)\n",
    "y = df['Is Promoted']"
   ]
  },
  {
   "cell_type": "code",
   "execution_count": 2224,
   "id": "2263a11b",
   "metadata": {},
   "outputs": [
    {
     "data": {
      "text/plain": [
       "NO     91.482995\n",
       "YES     8.517005\n",
       "Name: Is Promoted, dtype: float64"
      ]
     },
     "execution_count": 2224,
     "metadata": {},
     "output_type": "execute_result"
    }
   ],
   "source": [
    "df['Is Promoted'].value_counts(normalize = True)*100"
   ]
  },
  {
   "cell_type": "code",
   "execution_count": 2225,
   "id": "0bc3c65f",
   "metadata": {
    "scrolled": true
   },
   "outputs": [],
   "source": [
    "x_train , x_test , y_train , y_test = train_test_split( x , y , random_state = 7 ,\n",
    "                                                       stratify = y , test_size = 0.25)"
   ]
  },
  {
   "cell_type": "code",
   "execution_count": 2226,
   "id": "f7b78776",
   "metadata": {},
   "outputs": [
    {
     "data": {
      "text/html": [
       "<div>\n",
       "<style scoped>\n",
       "    .dataframe tbody tr th:only-of-type {\n",
       "        vertical-align: middle;\n",
       "    }\n",
       "\n",
       "    .dataframe tbody tr th {\n",
       "        vertical-align: top;\n",
       "    }\n",
       "\n",
       "    .dataframe thead th {\n",
       "        text-align: right;\n",
       "    }\n",
       "</style>\n",
       "<table border=\"1\" class=\"dataframe\">\n",
       "  <thead>\n",
       "    <tr style=\"text-align: right;\">\n",
       "      <th></th>\n",
       "      <th>Department</th>\n",
       "      <th>Region_Employment</th>\n",
       "      <th>Education Level</th>\n",
       "      <th>Gender</th>\n",
       "      <th>Recruitment Channel</th>\n",
       "      <th>NO_Trainings_LstYear</th>\n",
       "      <th>Age</th>\n",
       "      <th>previous_year_rating</th>\n",
       "      <th>Service Length</th>\n",
       "      <th>Awards</th>\n",
       "      <th>Avg_Training_Score</th>\n",
       "    </tr>\n",
       "  </thead>\n",
       "  <tbody>\n",
       "    <tr>\n",
       "      <th>17473</th>\n",
       "      <td>Procurement</td>\n",
       "      <td>region_23</td>\n",
       "      <td>Master's &amp; above</td>\n",
       "      <td>m</td>\n",
       "      <td>other</td>\n",
       "      <td>1</td>\n",
       "      <td>37.0</td>\n",
       "      <td>2.0</td>\n",
       "      <td>3</td>\n",
       "      <td>NO</td>\n",
       "      <td>67.0</td>\n",
       "    </tr>\n",
       "    <tr>\n",
       "      <th>14343</th>\n",
       "      <td>Procurement</td>\n",
       "      <td>region_7</td>\n",
       "      <td>Master's &amp; above</td>\n",
       "      <td>f</td>\n",
       "      <td>NaN</td>\n",
       "      <td>1</td>\n",
       "      <td>43.0</td>\n",
       "      <td>3.0</td>\n",
       "      <td>17</td>\n",
       "      <td>NO</td>\n",
       "      <td>74.0</td>\n",
       "    </tr>\n",
       "    <tr>\n",
       "      <th>48687</th>\n",
       "      <td>Finance</td>\n",
       "      <td>region_7</td>\n",
       "      <td>Bachelor's</td>\n",
       "      <td>m</td>\n",
       "      <td>other</td>\n",
       "      <td>1</td>\n",
       "      <td>31.0</td>\n",
       "      <td>5.0</td>\n",
       "      <td>7</td>\n",
       "      <td>NO</td>\n",
       "      <td>62.0</td>\n",
       "    </tr>\n",
       "    <tr>\n",
       "      <th>17261</th>\n",
       "      <td>Sales &amp; Marketing</td>\n",
       "      <td>region_13</td>\n",
       "      <td>Master's &amp; above</td>\n",
       "      <td>m</td>\n",
       "      <td>sourcing</td>\n",
       "      <td>1</td>\n",
       "      <td>30.0</td>\n",
       "      <td>4.0</td>\n",
       "      <td>2</td>\n",
       "      <td>NO</td>\n",
       "      <td>65.0</td>\n",
       "    </tr>\n",
       "    <tr>\n",
       "      <th>28493</th>\n",
       "      <td>HR</td>\n",
       "      <td>region_26</td>\n",
       "      <td>Bachelor's</td>\n",
       "      <td>m</td>\n",
       "      <td>sourcing</td>\n",
       "      <td>1</td>\n",
       "      <td>28.0</td>\n",
       "      <td>3.0</td>\n",
       "      <td>6</td>\n",
       "      <td>NO</td>\n",
       "      <td>49.0</td>\n",
       "    </tr>\n",
       "  </tbody>\n",
       "</table>\n",
       "</div>"
      ],
      "text/plain": [
       "              Department Region_Employment   Education Level Gender  \\\n",
       "17473        Procurement         region_23  Master's & above      m   \n",
       "14343        Procurement          region_7  Master's & above      f   \n",
       "48687            Finance          region_7        Bachelor's      m   \n",
       "17261  Sales & Marketing         region_13  Master's & above      m   \n",
       "28493                 HR         region_26        Bachelor's      m   \n",
       "\n",
       "      Recruitment Channel  NO_Trainings_LstYear   Age  previous_year_rating  \\\n",
       "17473               other                     1  37.0                   2.0   \n",
       "14343                 NaN                     1  43.0                   3.0   \n",
       "48687               other                     1  31.0                   5.0   \n",
       "17261            sourcing                     1  30.0                   4.0   \n",
       "28493            sourcing                     1  28.0                   3.0   \n",
       "\n",
       "       Service Length Awards  Avg_Training_Score  \n",
       "17473               3     NO                67.0  \n",
       "14343              17     NO                74.0  \n",
       "48687               7     NO                62.0  \n",
       "17261               2     NO                65.0  \n",
       "28493               6     NO                49.0  "
      ]
     },
     "execution_count": 2226,
     "metadata": {},
     "output_type": "execute_result"
    }
   ],
   "source": [
    "x_train.head()"
   ]
  },
  {
   "cell_type": "code",
   "execution_count": 2227,
   "id": "6c8c5f2b",
   "metadata": {},
   "outputs": [],
   "source": [
    "x_train.reset_index(inplace = True , drop = True)\n",
    "x_test.reset_index(drop = True , inplace = True)\n",
    "y_test.reset_index(inplace = True , drop = True)\n",
    "y_train.reset_index(inplace = True , drop = True)"
   ]
  },
  {
   "cell_type": "code",
   "execution_count": 2228,
   "id": "05a8ba79",
   "metadata": {},
   "outputs": [
    {
     "data": {
      "text/html": [
       "<div>\n",
       "<style scoped>\n",
       "    .dataframe tbody tr th:only-of-type {\n",
       "        vertical-align: middle;\n",
       "    }\n",
       "\n",
       "    .dataframe tbody tr th {\n",
       "        vertical-align: top;\n",
       "    }\n",
       "\n",
       "    .dataframe thead th {\n",
       "        text-align: right;\n",
       "    }\n",
       "</style>\n",
       "<table border=\"1\" class=\"dataframe\">\n",
       "  <thead>\n",
       "    <tr style=\"text-align: right;\">\n",
       "      <th></th>\n",
       "      <th>Department</th>\n",
       "      <th>Region_Employment</th>\n",
       "      <th>Education Level</th>\n",
       "      <th>Gender</th>\n",
       "      <th>Recruitment Channel</th>\n",
       "      <th>NO_Trainings_LstYear</th>\n",
       "      <th>Age</th>\n",
       "      <th>previous_year_rating</th>\n",
       "      <th>Service Length</th>\n",
       "      <th>Awards</th>\n",
       "      <th>Avg_Training_Score</th>\n",
       "    </tr>\n",
       "  </thead>\n",
       "  <tbody>\n",
       "    <tr>\n",
       "      <th>0</th>\n",
       "      <td>Procurement</td>\n",
       "      <td>region_23</td>\n",
       "      <td>Master's &amp; above</td>\n",
       "      <td>m</td>\n",
       "      <td>other</td>\n",
       "      <td>1</td>\n",
       "      <td>37.0</td>\n",
       "      <td>2.0</td>\n",
       "      <td>3</td>\n",
       "      <td>NO</td>\n",
       "      <td>67.0</td>\n",
       "    </tr>\n",
       "    <tr>\n",
       "      <th>1</th>\n",
       "      <td>Procurement</td>\n",
       "      <td>region_7</td>\n",
       "      <td>Master's &amp; above</td>\n",
       "      <td>f</td>\n",
       "      <td>NaN</td>\n",
       "      <td>1</td>\n",
       "      <td>43.0</td>\n",
       "      <td>3.0</td>\n",
       "      <td>17</td>\n",
       "      <td>NO</td>\n",
       "      <td>74.0</td>\n",
       "    </tr>\n",
       "    <tr>\n",
       "      <th>2</th>\n",
       "      <td>Finance</td>\n",
       "      <td>region_7</td>\n",
       "      <td>Bachelor's</td>\n",
       "      <td>m</td>\n",
       "      <td>other</td>\n",
       "      <td>1</td>\n",
       "      <td>31.0</td>\n",
       "      <td>5.0</td>\n",
       "      <td>7</td>\n",
       "      <td>NO</td>\n",
       "      <td>62.0</td>\n",
       "    </tr>\n",
       "  </tbody>\n",
       "</table>\n",
       "</div>"
      ],
      "text/plain": [
       "    Department Region_Employment   Education Level Gender Recruitment Channel  \\\n",
       "0  Procurement         region_23  Master's & above      m               other   \n",
       "1  Procurement          region_7  Master's & above      f                 NaN   \n",
       "2      Finance          region_7        Bachelor's      m               other   \n",
       "\n",
       "   NO_Trainings_LstYear   Age  previous_year_rating  Service Length Awards  \\\n",
       "0                     1  37.0                   2.0               3     NO   \n",
       "1                     1  43.0                   3.0              17     NO   \n",
       "2                     1  31.0                   5.0               7     NO   \n",
       "\n",
       "   Avg_Training_Score  \n",
       "0                67.0  \n",
       "1                74.0  \n",
       "2                62.0  "
      ]
     },
     "execution_count": 2228,
     "metadata": {},
     "output_type": "execute_result"
    }
   ],
   "source": [
    "x_train.head(3)"
   ]
  },
  {
   "cell_type": "code",
   "execution_count": 2229,
   "id": "49d580f3",
   "metadata": {
    "scrolled": true
   },
   "outputs": [
    {
     "data": {
      "text/html": [
       "<div>\n",
       "<style scoped>\n",
       "    .dataframe tbody tr th:only-of-type {\n",
       "        vertical-align: middle;\n",
       "    }\n",
       "\n",
       "    .dataframe tbody tr th {\n",
       "        vertical-align: top;\n",
       "    }\n",
       "\n",
       "    .dataframe thead th {\n",
       "        text-align: right;\n",
       "    }\n",
       "</style>\n",
       "<table border=\"1\" class=\"dataframe\">\n",
       "  <thead>\n",
       "    <tr style=\"text-align: right;\">\n",
       "      <th></th>\n",
       "      <th>Department</th>\n",
       "      <th>Region_Employment</th>\n",
       "      <th>Education Level</th>\n",
       "      <th>Gender</th>\n",
       "      <th>Recruitment Channel</th>\n",
       "      <th>NO_Trainings_LstYear</th>\n",
       "      <th>Age</th>\n",
       "      <th>previous_year_rating</th>\n",
       "      <th>Service Length</th>\n",
       "      <th>Awards</th>\n",
       "      <th>Avg_Training_Score</th>\n",
       "    </tr>\n",
       "  </thead>\n",
       "  <tbody>\n",
       "    <tr>\n",
       "      <th>0</th>\n",
       "      <td>Finance</td>\n",
       "      <td>region_2</td>\n",
       "      <td>Bachelor's</td>\n",
       "      <td>m</td>\n",
       "      <td>other</td>\n",
       "      <td>1</td>\n",
       "      <td>25.0</td>\n",
       "      <td>NaN</td>\n",
       "      <td>1</td>\n",
       "      <td>YES</td>\n",
       "      <td>58.0</td>\n",
       "    </tr>\n",
       "    <tr>\n",
       "      <th>1</th>\n",
       "      <td>Sales &amp; Marketing</td>\n",
       "      <td>region_11</td>\n",
       "      <td>Bachelor's</td>\n",
       "      <td>m</td>\n",
       "      <td>other</td>\n",
       "      <td>2</td>\n",
       "      <td>25.0</td>\n",
       "      <td>NaN</td>\n",
       "      <td>1</td>\n",
       "      <td>NO</td>\n",
       "      <td>49.0</td>\n",
       "    </tr>\n",
       "    <tr>\n",
       "      <th>2</th>\n",
       "      <td>Procurement</td>\n",
       "      <td>region_22</td>\n",
       "      <td>Master's &amp; above</td>\n",
       "      <td>f</td>\n",
       "      <td>sourcing</td>\n",
       "      <td>1</td>\n",
       "      <td>31.0</td>\n",
       "      <td>5.0</td>\n",
       "      <td>6</td>\n",
       "      <td>NO</td>\n",
       "      <td>67.0</td>\n",
       "    </tr>\n",
       "  </tbody>\n",
       "</table>\n",
       "</div>"
      ],
      "text/plain": [
       "          Department Region_Employment   Education Level Gender  \\\n",
       "0            Finance          region_2        Bachelor's      m   \n",
       "1  Sales & Marketing         region_11        Bachelor's      m   \n",
       "2        Procurement         region_22  Master's & above      f   \n",
       "\n",
       "  Recruitment Channel  NO_Trainings_LstYear   Age  previous_year_rating  \\\n",
       "0               other                     1  25.0                   NaN   \n",
       "1               other                     2  25.0                   NaN   \n",
       "2            sourcing                     1  31.0                   5.0   \n",
       "\n",
       "   Service Length Awards  Avg_Training_Score  \n",
       "0               1    YES                58.0  \n",
       "1               1     NO                49.0  \n",
       "2               6     NO                67.0  "
      ]
     },
     "execution_count": 2229,
     "metadata": {},
     "output_type": "execute_result"
    }
   ],
   "source": [
    "x_test.head(3)"
   ]
  },
  {
   "cell_type": "code",
   "execution_count": 2230,
   "id": "62cf30e3",
   "metadata": {
    "scrolled": true
   },
   "outputs": [
    {
     "data": {
      "text/plain": [
       "NO     91.482995\n",
       "YES     8.517005\n",
       "Name: Is Promoted, dtype: float64"
      ]
     },
     "execution_count": 2230,
     "metadata": {},
     "output_type": "execute_result"
    }
   ],
   "source": [
    "y_train.value_counts(normalize = True)*100"
   ]
  },
  {
   "cell_type": "code",
   "execution_count": 2231,
   "id": "eaa686b7",
   "metadata": {
    "scrolled": true
   },
   "outputs": [
    {
     "data": {
      "text/plain": [
       "NO     91.482995\n",
       "YES     8.517005\n",
       "Name: Is Promoted, dtype: float64"
      ]
     },
     "execution_count": 2231,
     "metadata": {},
     "output_type": "execute_result"
    }
   ],
   "source": [
    "y_test.value_counts(normalize = True)*100"
   ]
  },
  {
   "cell_type": "markdown",
   "id": "93aacf28",
   "metadata": {},
   "source": [
    "* stratify parameter save my percentage of Is Promoted in train & test (91%) NO to (8.5%) YES"
   ]
  },
  {
   "cell_type": "code",
   "execution_count": 2232,
   "id": "26194474",
   "metadata": {
    "scrolled": true
   },
   "outputs": [
    {
     "data": {
      "text/plain": [
       "((41106, 11), (41106,), (13702, 11), (13702,))"
      ]
     },
     "execution_count": 2232,
     "metadata": {},
     "output_type": "execute_result"
    }
   ],
   "source": [
    "x_train.shape , y_train.shape , x_test.shape , y_test.shape"
   ]
  },
  {
   "cell_type": "markdown",
   "id": "09ca7f25",
   "metadata": {},
   "source": [
    "### Now Time For Preparing Our y_train & y_test "
   ]
  },
  {
   "cell_type": "code",
   "execution_count": 2233,
   "id": "bc0032eb",
   "metadata": {},
   "outputs": [
    {
     "data": {
      "text/plain": [
       "array(['NO', 'YES'], dtype=object)"
      ]
     },
     "execution_count": 2233,
     "metadata": {},
     "output_type": "execute_result"
    }
   ],
   "source": [
    "y_train.unique()"
   ]
  },
  {
   "cell_type": "markdown",
   "id": "0fe6cc04",
   "metadata": {},
   "source": [
    "#### Encode y_train , y_test  to (0 & 1) values\n",
    "* uning lable encoding and mapper "
   ]
  },
  {
   "cell_type": "code",
   "execution_count": 2234,
   "id": "e6c5123e",
   "metadata": {},
   "outputs": [],
   "source": [
    "y_train = Label_Encoding(y_train)"
   ]
  },
  {
   "cell_type": "code",
   "execution_count": 2235,
   "id": "9fea7d1a",
   "metadata": {},
   "outputs": [
    {
     "data": {
      "text/plain": [
       "array([0, 1])"
      ]
     },
     "execution_count": 2235,
     "metadata": {},
     "output_type": "execute_result"
    }
   ],
   "source": [
    "y_train.unique()"
   ]
  },
  {
   "cell_type": "code",
   "execution_count": 2236,
   "id": "15c1225c",
   "metadata": {},
   "outputs": [],
   "source": [
    "y_test = Label_Encoding(y_test)"
   ]
  },
  {
   "cell_type": "code",
   "execution_count": 2237,
   "id": "8a9b1e12",
   "metadata": {},
   "outputs": [
    {
     "data": {
      "text/plain": [
       "array([0, 1])"
      ]
     },
     "execution_count": 2237,
     "metadata": {},
     "output_type": "execute_result"
    }
   ],
   "source": [
    "y_test.unique()"
   ]
  },
  {
   "cell_type": "code",
   "execution_count": 2238,
   "id": "6b8ea9d8",
   "metadata": {},
   "outputs": [],
   "source": [
    "x_train['Is Promoted'] = y_train\n",
    "x_test['Is Promoted'] = y_test"
   ]
  },
  {
   "cell_type": "markdown",
   "id": "4955143f",
   "metadata": {},
   "source": [
    "### Deal With Missing values based on Percentage in each Feature "
   ]
  },
  {
   "cell_type": "code",
   "execution_count": 2239,
   "id": "d08badad",
   "metadata": {
    "scrolled": false
   },
   "outputs": [
    {
     "data": {
      "text/plain": [
       "<AxesSubplot:>"
      ]
     },
     "execution_count": 2239,
     "metadata": {},
     "output_type": "execute_result"
    },
    {
     "data": {
      "image/png": "[encoded data removed]",
      "text/plain": [
       "<Figure size 1800x720 with 3 Axes>"
      ]
     },
     "metadata": {
      "needs_background": "light"
     },
     "output_type": "display_data"
    }
   ],
   "source": [
    "msno.bar(x_train)"
   ]
  },
  {
   "cell_type": "code",
   "execution_count": 2240,
   "id": "6bfcf639",
   "metadata": {
    "scrolled": true
   },
   "outputs": [
    {
     "data": {
      "text/plain": [
       "<AxesSubplot:>"
      ]
     },
     "execution_count": 2240,
     "metadata": {},
     "output_type": "execute_result"
    },
    {
     "data": {
      "image/png": "[encoded data removed]",
      "text/plain": [
       "<Figure size 1800x720 with 3 Axes>"
      ]
     },
     "metadata": {
      "needs_background": "light"
     },
     "output_type": "display_data"
    }
   ],
   "source": [
    "msno.bar(x_test)"
   ]
  },
  {
   "cell_type": "code",
   "execution_count": 2241,
   "id": "4bdb647d",
   "metadata": {},
   "outputs": [
    {
     "data": {
      "text/plain": [
       "Department               0.37\n",
       "Region_Employment        0.00\n",
       "Education Level          4.41\n",
       "Gender                   0.00\n",
       "Recruitment Channel     18.86\n",
       "NO_Trainings_LstYear     0.00\n",
       "Age                      0.97\n",
       "previous_year_rating     7.59\n",
       "Service Length           0.00\n",
       "Awards                   0.00\n",
       "Avg_Training_Score       4.70\n",
       "Is Promoted              0.00\n",
       "dtype: float64"
      ]
     },
     "execution_count": 2241,
     "metadata": {},
     "output_type": "execute_result"
    }
   ],
   "source": [
    "round(x_train.isnull().mean()*100 , 2)"
   ]
  },
  {
   "cell_type": "markdown",
   "id": "ea2bcbe2",
   "metadata": {},
   "source": [
    "###### For X_train (categorical Feature):\n",
    "* Department Feature Has (0.37%) missing  -- > drop this missing recordes \n",
    "* Education Level Feature Has (4.41%) missing  -- > drop this missing recordes \n",
    "* Recruitment Channel Feature (18.86%) missing  -- > impute this missing values with mode (most frequent )\n",
    "* Age Feature Has (0.97%) missing -- > drop this missing recordes \n",
    "* previous_year_rating Feature Has (7.59%) impute this missing values with mode (most frequent )\n",
    "* Avg_Training_Score Has (4.70%) drop this missing recordes "
   ]
  },
  {
   "cell_type": "markdown",
   "id": "c71e9a36",
   "metadata": {},
   "source": [
    "* [Department , Education Level , Age , Avg_Training_Score] have small percentage of missing record so we can drop those records "
   ]
  },
  {
   "cell_type": "code",
   "execution_count": 2242,
   "id": "a179a844",
   "metadata": {},
   "outputs": [],
   "source": [
    "x_train.dropna(subset = ['Department' , 'Education Level' , 'Age' , 'Avg_Training_Score'] , \n",
    "              axis = 0 , inplace = True)"
   ]
  },
  {
   "cell_type": "code",
   "execution_count": 2243,
   "id": "094d5c32",
   "metadata": {},
   "outputs": [
    {
     "data": {
      "text/plain": [
       "(36939, 12)"
      ]
     },
     "execution_count": 2243,
     "metadata": {},
     "output_type": "execute_result"
    }
   ],
   "source": [
    "x_train.shape"
   ]
  },
  {
   "cell_type": "code",
   "execution_count": 2244,
   "id": "26a93179",
   "metadata": {
    "scrolled": true
   },
   "outputs": [
    {
     "data": {
      "text/plain": [
       "Department               0.000000\n",
       "Region_Employment        0.000000\n",
       "Education Level          0.000000\n",
       "Gender                   0.000000\n",
       "Recruitment Channel     18.874360\n",
       "NO_Trainings_LstYear     0.000000\n",
       "Age                      0.000000\n",
       "previous_year_rating     7.160454\n",
       "Service Length           0.000000\n",
       "Awards                   0.000000\n",
       "Avg_Training_Score       0.000000\n",
       "Is Promoted              0.000000\n",
       "dtype: float64"
      ]
     },
     "execution_count": 2244,
     "metadata": {},
     "output_type": "execute_result"
    }
   ],
   "source": [
    "x_train.isnull().mean()*100"
   ]
  },
  {
   "cell_type": "code",
   "execution_count": 2245,
   "id": "fdbdca7c",
   "metadata": {},
   "outputs": [
    {
     "data": {
      "text/plain": [
       "array(['other', nan, 'sourcing', 'referred'], dtype=object)"
      ]
     },
     "execution_count": 2245,
     "metadata": {},
     "output_type": "execute_result"
    }
   ],
   "source": [
    "x_train['Recruitment Channel'].unique() # categorical column fill na with mode "
   ]
  },
  {
   "cell_type": "code",
   "execution_count": 2246,
   "id": "6bb2a920",
   "metadata": {},
   "outputs": [],
   "source": [
    "imputer = SimpleImputer(strategy = 'most_frequent') "
   ]
  },
  {
   "cell_type": "code",
   "execution_count": 2247,
   "id": "e8e9a3bb",
   "metadata": {},
   "outputs": [],
   "source": [
    "x_train['Recruitment Channel'] = imputer.fit_transform(x_train[['Recruitment Channel']])"
   ]
  },
  {
   "cell_type": "code",
   "execution_count": 2248,
   "id": "7481a4a6",
   "metadata": {},
   "outputs": [
    {
     "data": {
      "text/plain": [
       "array([ 2.,  3.,  5.,  4.,  1., nan])"
      ]
     },
     "execution_count": 2248,
     "metadata": {},
     "output_type": "execute_result"
    }
   ],
   "source": [
    "x_train['previous_year_rating'].unique()"
   ]
  },
  {
   "cell_type": "markdown",
   "id": "414ced2f",
   "metadata": {},
   "source": [
    "* previous_year_rating is numerical feature but not continuos it is descrete values (1 to 5) so will fill nan with mode "
   ]
  },
  {
   "cell_type": "code",
   "execution_count": 2249,
   "id": "ed0eaa41",
   "metadata": {},
   "outputs": [],
   "source": [
    "imputer = SimpleImputer(strategy = 'most_frequent')"
   ]
  },
  {
   "cell_type": "code",
   "execution_count": 2250,
   "id": "74968939",
   "metadata": {},
   "outputs": [],
   "source": [
    "x_train['previous_year_rating'] = imputer.fit_transform(x_train[['previous_year_rating']])"
   ]
  },
  {
   "cell_type": "code",
   "execution_count": 2251,
   "id": "7fcf9661",
   "metadata": {},
   "outputs": [
    {
     "data": {
      "text/plain": [
       "Department              0.0\n",
       "Region_Employment       0.0\n",
       "Education Level         0.0\n",
       "Gender                  0.0\n",
       "Recruitment Channel     0.0\n",
       "NO_Trainings_LstYear    0.0\n",
       "Age                     0.0\n",
       "previous_year_rating    0.0\n",
       "Service Length          0.0\n",
       "Awards                  0.0\n",
       "Avg_Training_Score      0.0\n",
       "Is Promoted             0.0\n",
       "dtype: float64"
      ]
     },
     "execution_count": 2251,
     "metadata": {},
     "output_type": "execute_result"
    }
   ],
   "source": [
    "x_train.isnull().mean()*100"
   ]
  },
  {
   "cell_type": "code",
   "execution_count": 2252,
   "id": "4b5d5618",
   "metadata": {
    "scrolled": true
   },
   "outputs": [
    {
     "data": {
      "text/plain": [
       "Department               0.39\n",
       "Region_Employment        0.00\n",
       "Education Level          4.36\n",
       "Gender                   0.00\n",
       "Recruitment Channel     19.35\n",
       "NO_Trainings_LstYear     0.00\n",
       "Age                      1.03\n",
       "previous_year_rating     7.33\n",
       "Service Length           0.00\n",
       "Awards                   0.00\n",
       "Avg_Training_Score       4.58\n",
       "Is Promoted              0.00\n",
       "dtype: float64"
      ]
     },
     "execution_count": 2252,
     "metadata": {},
     "output_type": "execute_result"
    }
   ],
   "source": [
    "round(x_test.isnull().mean()*100 , 2)"
   ]
  },
  {
   "cell_type": "markdown",
   "id": "2d475e6c",
   "metadata": {},
   "source": [
    "###### For X_test (categorical Feature)\n",
    "* Department Feature Has (0.39%) missing  -- > drop this missing recordes \n",
    "* Education Level Feature Has (4.36%) missing  -- > drop this missing recordes \n",
    "* Recruitment Channel Feature (19.35%) missing  -- > impute this missing values with mode (most frequent ) \n",
    "* Age Feature Has (1.03%) missing -- > drop this missing recordes \n",
    "* previous_year_rating Feature Has (7.33%)impute this missing values with mode (most frequent ) \n",
    "* Avg_Training_Score Feature Has (4.58%) missing -- > drop this missing recordes "
   ]
  },
  {
   "cell_type": "markdown",
   "id": "fe5a8330",
   "metadata": {},
   "source": [
    "* [Department , Education Level , Age , Avg_Training_Score] have small percentage of missing record so we can drop those records "
   ]
  },
  {
   "cell_type": "code",
   "execution_count": 2253,
   "id": "cd0f9824",
   "metadata": {},
   "outputs": [],
   "source": [
    "x_test.dropna(subset = ['Department' , 'Education Level' , 'Age' , 'Avg_Training_Score'] , \n",
    "             axis = 0 , inplace = True)"
   ]
  },
  {
   "cell_type": "code",
   "execution_count": 2254,
   "id": "fcddcbf1",
   "metadata": {},
   "outputs": [
    {
     "data": {
      "text/plain": [
       "(12327, 12)"
      ]
     },
     "execution_count": 2254,
     "metadata": {},
     "output_type": "execute_result"
    }
   ],
   "source": [
    "x_test.shape"
   ]
  },
  {
   "cell_type": "code",
   "execution_count": 2255,
   "id": "ca3a38c8",
   "metadata": {
    "scrolled": true
   },
   "outputs": [
    {
     "data": {
      "text/plain": [
       "Department               0.000000\n",
       "Region_Employment        0.000000\n",
       "Education Level          0.000000\n",
       "Gender                   0.000000\n",
       "Recruitment Channel     19.355885\n",
       "NO_Trainings_LstYear     0.000000\n",
       "Age                      0.000000\n",
       "previous_year_rating     6.919770\n",
       "Service Length           0.000000\n",
       "Awards                   0.000000\n",
       "Avg_Training_Score       0.000000\n",
       "Is Promoted              0.000000\n",
       "dtype: float64"
      ]
     },
     "execution_count": 2255,
     "metadata": {},
     "output_type": "execute_result"
    }
   ],
   "source": [
    "x_test.isnull().mean()*100"
   ]
  },
  {
   "cell_type": "code",
   "execution_count": 2256,
   "id": "b2a1c655",
   "metadata": {},
   "outputs": [
    {
     "data": {
      "text/plain": [
       "array(['other', 'sourcing', nan, 'referred'], dtype=object)"
      ]
     },
     "execution_count": 2256,
     "metadata": {},
     "output_type": "execute_result"
    }
   ],
   "source": [
    "x_test['Recruitment Channel'].unique() # categorical column fill na with mode "
   ]
  },
  {
   "cell_type": "code",
   "execution_count": 2257,
   "id": "7df16aa3",
   "metadata": {},
   "outputs": [],
   "source": [
    "imputer = SimpleImputer(strategy = 'most_frequent') "
   ]
  },
  {
   "cell_type": "code",
   "execution_count": 2258,
   "id": "26b449b8",
   "metadata": {},
   "outputs": [],
   "source": [
    "x_test['Recruitment Channel'] = imputer.fit_transform(x_test[['Recruitment Channel']])"
   ]
  },
  {
   "cell_type": "code",
   "execution_count": 2259,
   "id": "7317dea2",
   "metadata": {},
   "outputs": [
    {
     "data": {
      "text/plain": [
       "array([nan,  5.,  1.,  4.,  3.,  2.])"
      ]
     },
     "execution_count": 2259,
     "metadata": {},
     "output_type": "execute_result"
    }
   ],
   "source": [
    "x_test['previous_year_rating'].unique()"
   ]
  },
  {
   "cell_type": "markdown",
   "id": "462ec3aa",
   "metadata": {},
   "source": [
    "* previous_year_rating is numerical feature but not continuos it is descrete values (1 to 5) so will fill nan with mode "
   ]
  },
  {
   "cell_type": "code",
   "execution_count": 2260,
   "id": "238353d9",
   "metadata": {},
   "outputs": [],
   "source": [
    "imputer = SimpleImputer(strategy = 'most_frequent')"
   ]
  },
  {
   "cell_type": "code",
   "execution_count": 2261,
   "id": "92d28c2f",
   "metadata": {},
   "outputs": [],
   "source": [
    "x_test['previous_year_rating'] = imputer.fit_transform(x_test[['previous_year_rating']])"
   ]
  },
  {
   "cell_type": "code",
   "execution_count": 2262,
   "id": "2e5a72c5",
   "metadata": {
    "scrolled": true
   },
   "outputs": [
    {
     "data": {
      "text/plain": [
       "Department              0.0\n",
       "Region_Employment       0.0\n",
       "Education Level         0.0\n",
       "Gender                  0.0\n",
       "Recruitment Channel     0.0\n",
       "NO_Trainings_LstYear    0.0\n",
       "Age                     0.0\n",
       "previous_year_rating    0.0\n",
       "Service Length          0.0\n",
       "Awards                  0.0\n",
       "Avg_Training_Score      0.0\n",
       "Is Promoted             0.0\n",
       "dtype: float64"
      ]
     },
     "execution_count": 2262,
     "metadata": {},
     "output_type": "execute_result"
    }
   ],
   "source": [
    "x_test.isnull().mean()*100"
   ]
  },
  {
   "cell_type": "code",
   "execution_count": 2263,
   "id": "89e4338f",
   "metadata": {},
   "outputs": [],
   "source": [
    "x_train.reset_index(drop = True , inplace = True)\n",
    "x_test.reset_index(drop = True , inplace = True)"
   ]
  },
  {
   "cell_type": "markdown",
   "id": "a52e1d2f",
   "metadata": {},
   "source": [
    "### NOW Time For Encoding Our Categorical Feature X_train & X_test"
   ]
  },
  {
   "cell_type": "code",
   "execution_count": 2264,
   "id": "7849cd8e",
   "metadata": {},
   "outputs": [],
   "source": [
    "x_train_cat = x_train.select_dtypes('object_')\n",
    "x_train_num = x_train.select_dtypes('number')"
   ]
  },
  {
   "cell_type": "code",
   "execution_count": 2265,
   "id": "03df5eab",
   "metadata": {},
   "outputs": [],
   "source": [
    "x_test_cat = x_test.select_dtypes('object_')\n",
    "x_test_num = x_test.select_dtypes('number')"
   ]
  },
  {
   "cell_type": "code",
   "execution_count": 2266,
   "id": "91c6e0c3",
   "metadata": {
    "scrolled": true
   },
   "outputs": [
    {
     "data": {
      "text/html": [
       "<div>\n",
       "<style scoped>\n",
       "    .dataframe tbody tr th:only-of-type {\n",
       "        vertical-align: middle;\n",
       "    }\n",
       "\n",
       "    .dataframe tbody tr th {\n",
       "        vertical-align: top;\n",
       "    }\n",
       "\n",
       "    .dataframe thead th {\n",
       "        text-align: right;\n",
       "    }\n",
       "</style>\n",
       "<table border=\"1\" class=\"dataframe\">\n",
       "  <thead>\n",
       "    <tr style=\"text-align: right;\">\n",
       "      <th></th>\n",
       "      <th>Department</th>\n",
       "      <th>Region_Employment</th>\n",
       "      <th>Education Level</th>\n",
       "      <th>Gender</th>\n",
       "      <th>Recruitment Channel</th>\n",
       "      <th>Awards</th>\n",
       "    </tr>\n",
       "  </thead>\n",
       "  <tbody>\n",
       "    <tr>\n",
       "      <th>0</th>\n",
       "      <td>Procurement</td>\n",
       "      <td>region_23</td>\n",
       "      <td>Master's &amp; above</td>\n",
       "      <td>m</td>\n",
       "      <td>other</td>\n",
       "      <td>NO</td>\n",
       "    </tr>\n",
       "    <tr>\n",
       "      <th>1</th>\n",
       "      <td>Procurement</td>\n",
       "      <td>region_7</td>\n",
       "      <td>Master's &amp; above</td>\n",
       "      <td>f</td>\n",
       "      <td>other</td>\n",
       "      <td>NO</td>\n",
       "    </tr>\n",
       "    <tr>\n",
       "      <th>2</th>\n",
       "      <td>Finance</td>\n",
       "      <td>region_7</td>\n",
       "      <td>Bachelor's</td>\n",
       "      <td>m</td>\n",
       "      <td>other</td>\n",
       "      <td>NO</td>\n",
       "    </tr>\n",
       "  </tbody>\n",
       "</table>\n",
       "</div>"
      ],
      "text/plain": [
       "    Department Region_Employment   Education Level Gender Recruitment Channel  \\\n",
       "0  Procurement         region_23  Master's & above      m               other   \n",
       "1  Procurement          region_7  Master's & above      f               other   \n",
       "2      Finance          region_7        Bachelor's      m               other   \n",
       "\n",
       "  Awards  \n",
       "0     NO  \n",
       "1     NO  \n",
       "2     NO  "
      ]
     },
     "execution_count": 2266,
     "metadata": {},
     "output_type": "execute_result"
    }
   ],
   "source": [
    "x_train_cat.head(3)"
   ]
  },
  {
   "cell_type": "code",
   "execution_count": 2267,
   "id": "280dc3a1",
   "metadata": {},
   "outputs": [
    {
     "data": {
      "text/html": [
       "<div>\n",
       "<style scoped>\n",
       "    .dataframe tbody tr th:only-of-type {\n",
       "        vertical-align: middle;\n",
       "    }\n",
       "\n",
       "    .dataframe tbody tr th {\n",
       "        vertical-align: top;\n",
       "    }\n",
       "\n",
       "    .dataframe thead th {\n",
       "        text-align: right;\n",
       "    }\n",
       "</style>\n",
       "<table border=\"1\" class=\"dataframe\">\n",
       "  <thead>\n",
       "    <tr style=\"text-align: right;\">\n",
       "      <th></th>\n",
       "      <th>Department</th>\n",
       "      <th>Region_Employment</th>\n",
       "      <th>Education Level</th>\n",
       "      <th>Gender</th>\n",
       "      <th>Recruitment Channel</th>\n",
       "      <th>Awards</th>\n",
       "    </tr>\n",
       "  </thead>\n",
       "  <tbody>\n",
       "    <tr>\n",
       "      <th>0</th>\n",
       "      <td>Finance</td>\n",
       "      <td>region_2</td>\n",
       "      <td>Bachelor's</td>\n",
       "      <td>m</td>\n",
       "      <td>other</td>\n",
       "      <td>YES</td>\n",
       "    </tr>\n",
       "    <tr>\n",
       "      <th>1</th>\n",
       "      <td>Sales &amp; Marketing</td>\n",
       "      <td>region_11</td>\n",
       "      <td>Bachelor's</td>\n",
       "      <td>m</td>\n",
       "      <td>other</td>\n",
       "      <td>NO</td>\n",
       "    </tr>\n",
       "    <tr>\n",
       "      <th>2</th>\n",
       "      <td>Procurement</td>\n",
       "      <td>region_22</td>\n",
       "      <td>Master's &amp; above</td>\n",
       "      <td>f</td>\n",
       "      <td>sourcing</td>\n",
       "      <td>NO</td>\n",
       "    </tr>\n",
       "  </tbody>\n",
       "</table>\n",
       "</div>"
      ],
      "text/plain": [
       "          Department Region_Employment   Education Level Gender  \\\n",
       "0            Finance          region_2        Bachelor's      m   \n",
       "1  Sales & Marketing         region_11        Bachelor's      m   \n",
       "2        Procurement         region_22  Master's & above      f   \n",
       "\n",
       "  Recruitment Channel Awards  \n",
       "0               other    YES  \n",
       "1               other     NO  \n",
       "2            sourcing     NO  "
      ]
     },
     "execution_count": 2267,
     "metadata": {},
     "output_type": "execute_result"
    }
   ],
   "source": [
    "x_test_cat.head(3)"
   ]
  },
  {
   "cell_type": "markdown",
   "id": "1519b36c",
   "metadata": {},
   "source": [
    "##### Department Feature X_train & X_test"
   ]
  },
  {
   "cell_type": "code",
   "execution_count": 2268,
   "id": "5b6b22b6",
   "metadata": {},
   "outputs": [
    {
     "data": {
      "text/plain": [
       "array(['Procurement', 'Finance', 'Sales & Marketing', 'HR', 'Technology',\n",
       "       'Operations', 'Legal', 'R&D', 'Analytics'], dtype=object)"
      ]
     },
     "execution_count": 2268,
     "metadata": {},
     "output_type": "execute_result"
    }
   ],
   "source": [
    "x_train_cat['Department'].unique()"
   ]
  },
  {
   "cell_type": "code",
   "execution_count": 2269,
   "id": "4dcd7f1e",
   "metadata": {},
   "outputs": [
    {
     "data": {
      "text/plain": [
       "9"
      ]
     },
     "execution_count": 2269,
     "metadata": {},
     "output_type": "execute_result"
    }
   ],
   "source": [
    "x_train_cat['Department'].nunique()"
   ]
  },
  {
   "cell_type": "markdown",
   "id": "269c74d5",
   "metadata": {},
   "source": [
    "* Has 9 Category if we use one hot encoding we get new 9 columns we can improve it by drop first one or any of them but still big number of columns so we use binary encoding we have 9 category will represent into 4 columns "
   ]
  },
  {
   "cell_type": "code",
   "execution_count": 2270,
   "id": "bc7e76c3",
   "metadata": {},
   "outputs": [],
   "source": [
    "x_train_cat = Binary_Encoder(x_train_cat , 'Department')"
   ]
  },
  {
   "cell_type": "code",
   "execution_count": 2271,
   "id": "7fccae91",
   "metadata": {
    "scrolled": false
   },
   "outputs": [
    {
     "data": {
      "text/html": [
       "<div>\n",
       "<style scoped>\n",
       "    .dataframe tbody tr th:only-of-type {\n",
       "        vertical-align: middle;\n",
       "    }\n",
       "\n",
       "    .dataframe tbody tr th {\n",
       "        vertical-align: top;\n",
       "    }\n",
       "\n",
       "    .dataframe thead th {\n",
       "        text-align: right;\n",
       "    }\n",
       "</style>\n",
       "<table border=\"1\" class=\"dataframe\">\n",
       "  <thead>\n",
       "    <tr style=\"text-align: right;\">\n",
       "      <th></th>\n",
       "      <th>Region_Employment</th>\n",
       "      <th>Education Level</th>\n",
       "      <th>Gender</th>\n",
       "      <th>Recruitment Channel</th>\n",
       "      <th>Awards</th>\n",
       "      <th>Department_0</th>\n",
       "      <th>Department_1</th>\n",
       "      <th>Department_2</th>\n",
       "      <th>Department_3</th>\n",
       "    </tr>\n",
       "  </thead>\n",
       "  <tbody>\n",
       "    <tr>\n",
       "      <th>0</th>\n",
       "      <td>region_23</td>\n",
       "      <td>Master's &amp; above</td>\n",
       "      <td>m</td>\n",
       "      <td>other</td>\n",
       "      <td>NO</td>\n",
       "      <td>0</td>\n",
       "      <td>0</td>\n",
       "      <td>0</td>\n",
       "      <td>1</td>\n",
       "    </tr>\n",
       "    <tr>\n",
       "      <th>1</th>\n",
       "      <td>region_7</td>\n",
       "      <td>Master's &amp; above</td>\n",
       "      <td>f</td>\n",
       "      <td>other</td>\n",
       "      <td>NO</td>\n",
       "      <td>0</td>\n",
       "      <td>0</td>\n",
       "      <td>0</td>\n",
       "      <td>1</td>\n",
       "    </tr>\n",
       "  </tbody>\n",
       "</table>\n",
       "</div>"
      ],
      "text/plain": [
       "  Region_Employment   Education Level Gender Recruitment Channel Awards  \\\n",
       "0         region_23  Master's & above      m               other     NO   \n",
       "1          region_7  Master's & above      f               other     NO   \n",
       "\n",
       "   Department_0  Department_1  Department_2  Department_3  \n",
       "0             0             0             0             1  \n",
       "1             0             0             0             1  "
      ]
     },
     "execution_count": 2271,
     "metadata": {},
     "output_type": "execute_result"
    }
   ],
   "source": [
    "x_train_cat.head(2)"
   ]
  },
  {
   "cell_type": "code",
   "execution_count": 2272,
   "id": "d290d3ef",
   "metadata": {},
   "outputs": [],
   "source": [
    "x_test_cat = Binary_Encoder(x_test_cat , 'Department')"
   ]
  },
  {
   "cell_type": "code",
   "execution_count": 2273,
   "id": "546eff3e",
   "metadata": {
    "scrolled": true
   },
   "outputs": [
    {
     "data": {
      "text/html": [
       "<div>\n",
       "<style scoped>\n",
       "    .dataframe tbody tr th:only-of-type {\n",
       "        vertical-align: middle;\n",
       "    }\n",
       "\n",
       "    .dataframe tbody tr th {\n",
       "        vertical-align: top;\n",
       "    }\n",
       "\n",
       "    .dataframe thead th {\n",
       "        text-align: right;\n",
       "    }\n",
       "</style>\n",
       "<table border=\"1\" class=\"dataframe\">\n",
       "  <thead>\n",
       "    <tr style=\"text-align: right;\">\n",
       "      <th></th>\n",
       "      <th>Region_Employment</th>\n",
       "      <th>Education Level</th>\n",
       "      <th>Gender</th>\n",
       "      <th>Recruitment Channel</th>\n",
       "      <th>Awards</th>\n",
       "      <th>Department_0</th>\n",
       "      <th>Department_1</th>\n",
       "      <th>Department_2</th>\n",
       "      <th>Department_3</th>\n",
       "    </tr>\n",
       "  </thead>\n",
       "  <tbody>\n",
       "    <tr>\n",
       "      <th>0</th>\n",
       "      <td>region_2</td>\n",
       "      <td>Bachelor's</td>\n",
       "      <td>m</td>\n",
       "      <td>other</td>\n",
       "      <td>YES</td>\n",
       "      <td>0</td>\n",
       "      <td>0</td>\n",
       "      <td>0</td>\n",
       "      <td>1</td>\n",
       "    </tr>\n",
       "    <tr>\n",
       "      <th>1</th>\n",
       "      <td>region_11</td>\n",
       "      <td>Bachelor's</td>\n",
       "      <td>m</td>\n",
       "      <td>other</td>\n",
       "      <td>NO</td>\n",
       "      <td>0</td>\n",
       "      <td>0</td>\n",
       "      <td>1</td>\n",
       "      <td>0</td>\n",
       "    </tr>\n",
       "  </tbody>\n",
       "</table>\n",
       "</div>"
      ],
      "text/plain": [
       "  Region_Employment Education Level Gender Recruitment Channel Awards  \\\n",
       "0          region_2      Bachelor's      m               other    YES   \n",
       "1         region_11      Bachelor's      m               other     NO   \n",
       "\n",
       "   Department_0  Department_1  Department_2  Department_3  \n",
       "0             0             0             0             1  \n",
       "1             0             0             1             0  "
      ]
     },
     "execution_count": 2273,
     "metadata": {},
     "output_type": "execute_result"
    }
   ],
   "source": [
    "x_test_cat.head(2)"
   ]
  },
  {
   "cell_type": "markdown",
   "id": "8702a17b",
   "metadata": {},
   "source": [
    "###### Region Emplyment X_train , X_test"
   ]
  },
  {
   "cell_type": "code",
   "execution_count": 2274,
   "id": "7a503925",
   "metadata": {},
   "outputs": [
    {
     "data": {
      "text/plain": [
       "array(['region_23', 'region_7', 'region_13', 'region_26', 'region_11',\n",
       "       'region_22', 'region_2', 'region_12', 'region_15', 'region_9',\n",
       "       'region_24', 'region_4', 'region_29', 'region_21', 'region_31',\n",
       "       'region_20', 'region_27', 'region_1', 'region_19', 'region_16',\n",
       "       'region_8', 'region_25', 'region_34', 'region_17', 'region_14',\n",
       "       'region_28', 'region_30', 'region_10', 'region_3', 'region_33',\n",
       "       'region_6', 'region_5', 'region_32', 'region_18'], dtype=object)"
      ]
     },
     "execution_count": 2274,
     "metadata": {},
     "output_type": "execute_result"
    }
   ],
   "source": [
    "x_train_cat['Region_Employment'].unique()"
   ]
  },
  {
   "cell_type": "code",
   "execution_count": 2275,
   "id": "cc52593b",
   "metadata": {},
   "outputs": [
    {
     "data": {
      "text/plain": [
       "34"
      ]
     },
     "execution_count": 2275,
     "metadata": {},
     "output_type": "execute_result"
    }
   ],
   "source": [
    "x_train_cat['Region_Employment'].nunique()"
   ]
  },
  {
   "cell_type": "markdown",
   "id": "bf922659",
   "metadata": {},
   "source": [
    "Has 34 Category if we use one hot encoding we get new 34 columns we can improve it by drop first one or any of them but still big number of columns so we use binary encoding we have 34 category will represent into 6 columns instead "
   ]
  },
  {
   "cell_type": "code",
   "execution_count": 2276,
   "id": "be7b04af",
   "metadata": {},
   "outputs": [],
   "source": [
    "x_train_cat = Binary_Encoder(x_train_cat , 'Region_Employment')"
   ]
  },
  {
   "cell_type": "code",
   "execution_count": 2277,
   "id": "184e4b3c",
   "metadata": {
    "scrolled": true
   },
   "outputs": [
    {
     "data": {
      "text/html": [
       "<div>\n",
       "<style scoped>\n",
       "    .dataframe tbody tr th:only-of-type {\n",
       "        vertical-align: middle;\n",
       "    }\n",
       "\n",
       "    .dataframe tbody tr th {\n",
       "        vertical-align: top;\n",
       "    }\n",
       "\n",
       "    .dataframe thead th {\n",
       "        text-align: right;\n",
       "    }\n",
       "</style>\n",
       "<table border=\"1\" class=\"dataframe\">\n",
       "  <thead>\n",
       "    <tr style=\"text-align: right;\">\n",
       "      <th></th>\n",
       "      <th>Education Level</th>\n",
       "      <th>Gender</th>\n",
       "      <th>Recruitment Channel</th>\n",
       "      <th>Awards</th>\n",
       "      <th>Department_0</th>\n",
       "      <th>Department_1</th>\n",
       "      <th>Department_2</th>\n",
       "      <th>Department_3</th>\n",
       "      <th>Region_Employment_0</th>\n",
       "      <th>Region_Employment_1</th>\n",
       "      <th>Region_Employment_2</th>\n",
       "      <th>Region_Employment_3</th>\n",
       "      <th>Region_Employment_4</th>\n",
       "      <th>Region_Employment_5</th>\n",
       "    </tr>\n",
       "  </thead>\n",
       "  <tbody>\n",
       "    <tr>\n",
       "      <th>0</th>\n",
       "      <td>Master's &amp; above</td>\n",
       "      <td>m</td>\n",
       "      <td>other</td>\n",
       "      <td>NO</td>\n",
       "      <td>0</td>\n",
       "      <td>0</td>\n",
       "      <td>0</td>\n",
       "      <td>1</td>\n",
       "      <td>0</td>\n",
       "      <td>0</td>\n",
       "      <td>0</td>\n",
       "      <td>0</td>\n",
       "      <td>0</td>\n",
       "      <td>1</td>\n",
       "    </tr>\n",
       "    <tr>\n",
       "      <th>1</th>\n",
       "      <td>Master's &amp; above</td>\n",
       "      <td>f</td>\n",
       "      <td>other</td>\n",
       "      <td>NO</td>\n",
       "      <td>0</td>\n",
       "      <td>0</td>\n",
       "      <td>0</td>\n",
       "      <td>1</td>\n",
       "      <td>0</td>\n",
       "      <td>0</td>\n",
       "      <td>0</td>\n",
       "      <td>0</td>\n",
       "      <td>1</td>\n",
       "      <td>0</td>\n",
       "    </tr>\n",
       "  </tbody>\n",
       "</table>\n",
       "</div>"
      ],
      "text/plain": [
       "    Education Level Gender Recruitment Channel Awards  Department_0  \\\n",
       "0  Master's & above      m               other     NO             0   \n",
       "1  Master's & above      f               other     NO             0   \n",
       "\n",
       "   Department_1  Department_2  Department_3  Region_Employment_0  \\\n",
       "0             0             0             1                    0   \n",
       "1             0             0             1                    0   \n",
       "\n",
       "   Region_Employment_1  Region_Employment_2  Region_Employment_3  \\\n",
       "0                    0                    0                    0   \n",
       "1                    0                    0                    0   \n",
       "\n",
       "   Region_Employment_4  Region_Employment_5  \n",
       "0                    0                    1  \n",
       "1                    1                    0  "
      ]
     },
     "execution_count": 2277,
     "metadata": {},
     "output_type": "execute_result"
    }
   ],
   "source": [
    "x_train_cat.head(2)"
   ]
  },
  {
   "cell_type": "code",
   "execution_count": 2278,
   "id": "995a9aa8",
   "metadata": {},
   "outputs": [],
   "source": [
    "x_test_cat = Binary_Encoder(x_test_cat , 'Region_Employment')"
   ]
  },
  {
   "cell_type": "code",
   "execution_count": 2279,
   "id": "308f477d",
   "metadata": {},
   "outputs": [
    {
     "data": {
      "text/html": [
       "<div>\n",
       "<style scoped>\n",
       "    .dataframe tbody tr th:only-of-type {\n",
       "        vertical-align: middle;\n",
       "    }\n",
       "\n",
       "    .dataframe tbody tr th {\n",
       "        vertical-align: top;\n",
       "    }\n",
       "\n",
       "    .dataframe thead th {\n",
       "        text-align: right;\n",
       "    }\n",
       "</style>\n",
       "<table border=\"1\" class=\"dataframe\">\n",
       "  <thead>\n",
       "    <tr style=\"text-align: right;\">\n",
       "      <th></th>\n",
       "      <th>Education Level</th>\n",
       "      <th>Gender</th>\n",
       "      <th>Recruitment Channel</th>\n",
       "      <th>Awards</th>\n",
       "      <th>Department_0</th>\n",
       "      <th>Department_1</th>\n",
       "      <th>Department_2</th>\n",
       "      <th>Department_3</th>\n",
       "      <th>Region_Employment_0</th>\n",
       "      <th>Region_Employment_1</th>\n",
       "      <th>Region_Employment_2</th>\n",
       "      <th>Region_Employment_3</th>\n",
       "      <th>Region_Employment_4</th>\n",
       "      <th>Region_Employment_5</th>\n",
       "    </tr>\n",
       "  </thead>\n",
       "  <tbody>\n",
       "    <tr>\n",
       "      <th>0</th>\n",
       "      <td>Bachelor's</td>\n",
       "      <td>m</td>\n",
       "      <td>other</td>\n",
       "      <td>YES</td>\n",
       "      <td>0</td>\n",
       "      <td>0</td>\n",
       "      <td>0</td>\n",
       "      <td>1</td>\n",
       "      <td>0</td>\n",
       "      <td>0</td>\n",
       "      <td>0</td>\n",
       "      <td>0</td>\n",
       "      <td>0</td>\n",
       "      <td>1</td>\n",
       "    </tr>\n",
       "    <tr>\n",
       "      <th>1</th>\n",
       "      <td>Bachelor's</td>\n",
       "      <td>m</td>\n",
       "      <td>other</td>\n",
       "      <td>NO</td>\n",
       "      <td>0</td>\n",
       "      <td>0</td>\n",
       "      <td>1</td>\n",
       "      <td>0</td>\n",
       "      <td>0</td>\n",
       "      <td>0</td>\n",
       "      <td>0</td>\n",
       "      <td>0</td>\n",
       "      <td>1</td>\n",
       "      <td>0</td>\n",
       "    </tr>\n",
       "  </tbody>\n",
       "</table>\n",
       "</div>"
      ],
      "text/plain": [
       "  Education Level Gender Recruitment Channel Awards  Department_0  \\\n",
       "0      Bachelor's      m               other    YES             0   \n",
       "1      Bachelor's      m               other     NO             0   \n",
       "\n",
       "   Department_1  Department_2  Department_3  Region_Employment_0  \\\n",
       "0             0             0             1                    0   \n",
       "1             0             1             0                    0   \n",
       "\n",
       "   Region_Employment_1  Region_Employment_2  Region_Employment_3  \\\n",
       "0                    0                    0                    0   \n",
       "1                    0                    0                    0   \n",
       "\n",
       "   Region_Employment_4  Region_Employment_5  \n",
       "0                    0                    1  \n",
       "1                    1                    0  "
      ]
     },
     "execution_count": 2279,
     "metadata": {},
     "output_type": "execute_result"
    }
   ],
   "source": [
    "x_test_cat.head(2)"
   ]
  },
  {
   "cell_type": "markdown",
   "id": "8d78a779",
   "metadata": {},
   "source": [
    "###### Education Level Feature X_train & X_test"
   ]
  },
  {
   "cell_type": "code",
   "execution_count": 2280,
   "id": "cd2b22ed",
   "metadata": {},
   "outputs": [
    {
     "data": {
      "text/plain": [
       "array([\"Master's & above\", \"Bachelor's\", 'Below Secondary'], dtype=object)"
      ]
     },
     "execution_count": 2280,
     "metadata": {},
     "output_type": "execute_result"
    }
   ],
   "source": [
    "x_train_cat['Education Level'].unique()"
   ]
  },
  {
   "cell_type": "code",
   "execution_count": 2281,
   "id": "3a71ba65",
   "metadata": {},
   "outputs": [
    {
     "data": {
      "text/plain": [
       "3"
      ]
     },
     "execution_count": 2281,
     "metadata": {},
     "output_type": "execute_result"
    }
   ],
   "source": [
    "x_train_cat['Education Level'].nunique()"
   ]
  },
  {
   "cell_type": "markdown",
   "id": "6afe44e4",
   "metadata": {},
   "source": [
    "* Has 3 category can represent into 2 columns in binary encoding and can encoded by one hot encoder into 2 columns by drop any of them \n",
    "* So we will use One Hot Encoding "
   ]
  },
  {
   "cell_type": "code",
   "execution_count": 2282,
   "id": "066c84d9",
   "metadata": {},
   "outputs": [],
   "source": [
    "x_train_cat = One_Hot_Encoder(x_train_cat , 'Education Level')"
   ]
  },
  {
   "cell_type": "code",
   "execution_count": 2283,
   "id": "2396eb3f",
   "metadata": {},
   "outputs": [
    {
     "data": {
      "text/html": [
       "<div>\n",
       "<style scoped>\n",
       "    .dataframe tbody tr th:only-of-type {\n",
       "        vertical-align: middle;\n",
       "    }\n",
       "\n",
       "    .dataframe tbody tr th {\n",
       "        vertical-align: top;\n",
       "    }\n",
       "\n",
       "    .dataframe thead th {\n",
       "        text-align: right;\n",
       "    }\n",
       "</style>\n",
       "<table border=\"1\" class=\"dataframe\">\n",
       "  <thead>\n",
       "    <tr style=\"text-align: right;\">\n",
       "      <th></th>\n",
       "      <th>Gender</th>\n",
       "      <th>Recruitment Channel</th>\n",
       "      <th>Awards</th>\n",
       "      <th>Department_0</th>\n",
       "      <th>Department_1</th>\n",
       "      <th>Department_2</th>\n",
       "      <th>Department_3</th>\n",
       "      <th>Region_Employment_0</th>\n",
       "      <th>Region_Employment_1</th>\n",
       "      <th>Region_Employment_2</th>\n",
       "      <th>Region_Employment_3</th>\n",
       "      <th>Region_Employment_4</th>\n",
       "      <th>Region_Employment_5</th>\n",
       "      <th>Education Level_Below Secondary</th>\n",
       "      <th>Education Level_Master's &amp; above</th>\n",
       "    </tr>\n",
       "  </thead>\n",
       "  <tbody>\n",
       "    <tr>\n",
       "      <th>0</th>\n",
       "      <td>m</td>\n",
       "      <td>other</td>\n",
       "      <td>NO</td>\n",
       "      <td>0</td>\n",
       "      <td>0</td>\n",
       "      <td>0</td>\n",
       "      <td>1</td>\n",
       "      <td>0</td>\n",
       "      <td>0</td>\n",
       "      <td>0</td>\n",
       "      <td>0</td>\n",
       "      <td>0</td>\n",
       "      <td>1</td>\n",
       "      <td>0.0</td>\n",
       "      <td>1.0</td>\n",
       "    </tr>\n",
       "    <tr>\n",
       "      <th>1</th>\n",
       "      <td>f</td>\n",
       "      <td>other</td>\n",
       "      <td>NO</td>\n",
       "      <td>0</td>\n",
       "      <td>0</td>\n",
       "      <td>0</td>\n",
       "      <td>1</td>\n",
       "      <td>0</td>\n",
       "      <td>0</td>\n",
       "      <td>0</td>\n",
       "      <td>0</td>\n",
       "      <td>1</td>\n",
       "      <td>0</td>\n",
       "      <td>0.0</td>\n",
       "      <td>1.0</td>\n",
       "    </tr>\n",
       "  </tbody>\n",
       "</table>\n",
       "</div>"
      ],
      "text/plain": [
       "  Gender Recruitment Channel Awards  Department_0  Department_1  Department_2  \\\n",
       "0      m               other     NO             0             0             0   \n",
       "1      f               other     NO             0             0             0   \n",
       "\n",
       "   Department_3  Region_Employment_0  Region_Employment_1  \\\n",
       "0             1                    0                    0   \n",
       "1             1                    0                    0   \n",
       "\n",
       "   Region_Employment_2  Region_Employment_3  Region_Employment_4  \\\n",
       "0                    0                    0                    0   \n",
       "1                    0                    0                    1   \n",
       "\n",
       "   Region_Employment_5  Education Level_Below Secondary  \\\n",
       "0                    1                              0.0   \n",
       "1                    0                              0.0   \n",
       "\n",
       "   Education Level_Master's & above  \n",
       "0                               1.0  \n",
       "1                               1.0  "
      ]
     },
     "execution_count": 2283,
     "metadata": {},
     "output_type": "execute_result"
    }
   ],
   "source": [
    "x_train_cat.head(2)"
   ]
  },
  {
   "cell_type": "code",
   "execution_count": 2284,
   "id": "3e5aa512",
   "metadata": {},
   "outputs": [],
   "source": [
    "x_test_cat = One_Hot_Encoder(x_test_cat , 'Education Level')"
   ]
  },
  {
   "cell_type": "code",
   "execution_count": 2285,
   "id": "5a88e136",
   "metadata": {
    "scrolled": true
   },
   "outputs": [
    {
     "data": {
      "text/html": [
       "<div>\n",
       "<style scoped>\n",
       "    .dataframe tbody tr th:only-of-type {\n",
       "        vertical-align: middle;\n",
       "    }\n",
       "\n",
       "    .dataframe tbody tr th {\n",
       "        vertical-align: top;\n",
       "    }\n",
       "\n",
       "    .dataframe thead th {\n",
       "        text-align: right;\n",
       "    }\n",
       "</style>\n",
       "<table border=\"1\" class=\"dataframe\">\n",
       "  <thead>\n",
       "    <tr style=\"text-align: right;\">\n",
       "      <th></th>\n",
       "      <th>Gender</th>\n",
       "      <th>Recruitment Channel</th>\n",
       "      <th>Awards</th>\n",
       "      <th>Department_0</th>\n",
       "      <th>Department_1</th>\n",
       "      <th>Department_2</th>\n",
       "      <th>Department_3</th>\n",
       "      <th>Region_Employment_0</th>\n",
       "      <th>Region_Employment_1</th>\n",
       "      <th>Region_Employment_2</th>\n",
       "      <th>Region_Employment_3</th>\n",
       "      <th>Region_Employment_4</th>\n",
       "      <th>Region_Employment_5</th>\n",
       "      <th>Education Level_Below Secondary</th>\n",
       "      <th>Education Level_Master's &amp; above</th>\n",
       "    </tr>\n",
       "  </thead>\n",
       "  <tbody>\n",
       "    <tr>\n",
       "      <th>0</th>\n",
       "      <td>m</td>\n",
       "      <td>other</td>\n",
       "      <td>YES</td>\n",
       "      <td>0</td>\n",
       "      <td>0</td>\n",
       "      <td>0</td>\n",
       "      <td>1</td>\n",
       "      <td>0</td>\n",
       "      <td>0</td>\n",
       "      <td>0</td>\n",
       "      <td>0</td>\n",
       "      <td>0</td>\n",
       "      <td>1</td>\n",
       "      <td>0.0</td>\n",
       "      <td>0.0</td>\n",
       "    </tr>\n",
       "    <tr>\n",
       "      <th>1</th>\n",
       "      <td>m</td>\n",
       "      <td>other</td>\n",
       "      <td>NO</td>\n",
       "      <td>0</td>\n",
       "      <td>0</td>\n",
       "      <td>1</td>\n",
       "      <td>0</td>\n",
       "      <td>0</td>\n",
       "      <td>0</td>\n",
       "      <td>0</td>\n",
       "      <td>0</td>\n",
       "      <td>1</td>\n",
       "      <td>0</td>\n",
       "      <td>0.0</td>\n",
       "      <td>0.0</td>\n",
       "    </tr>\n",
       "  </tbody>\n",
       "</table>\n",
       "</div>"
      ],
      "text/plain": [
       "  Gender Recruitment Channel Awards  Department_0  Department_1  Department_2  \\\n",
       "0      m               other    YES             0             0             0   \n",
       "1      m               other     NO             0             0             1   \n",
       "\n",
       "   Department_3  Region_Employment_0  Region_Employment_1  \\\n",
       "0             1                    0                    0   \n",
       "1             0                    0                    0   \n",
       "\n",
       "   Region_Employment_2  Region_Employment_3  Region_Employment_4  \\\n",
       "0                    0                    0                    0   \n",
       "1                    0                    0                    1   \n",
       "\n",
       "   Region_Employment_5  Education Level_Below Secondary  \\\n",
       "0                    1                              0.0   \n",
       "1                    0                              0.0   \n",
       "\n",
       "   Education Level_Master's & above  \n",
       "0                               0.0  \n",
       "1                               0.0  "
      ]
     },
     "execution_count": 2285,
     "metadata": {},
     "output_type": "execute_result"
    }
   ],
   "source": [
    "x_test_cat.head(2)"
   ]
  },
  {
   "cell_type": "markdown",
   "id": "e36e7cea",
   "metadata": {},
   "source": [
    "###### Gender Feature X_train & X_test"
   ]
  },
  {
   "cell_type": "code",
   "execution_count": 2286,
   "id": "4cc31b1b",
   "metadata": {},
   "outputs": [
    {
     "data": {
      "text/plain": [
       "array(['m', 'f'], dtype=object)"
      ]
     },
     "execution_count": 2286,
     "metadata": {},
     "output_type": "execute_result"
    }
   ],
   "source": [
    "x_train_cat['Gender'].unique()"
   ]
  },
  {
   "cell_type": "code",
   "execution_count": 2287,
   "id": "d9af9fc1",
   "metadata": {},
   "outputs": [],
   "source": [
    "x_train_cat['Gender'] = x_train_cat['Gender'].apply(lambda x : 1 if x == 'm' else 0)"
   ]
  },
  {
   "cell_type": "code",
   "execution_count": 2288,
   "id": "e98ebb25",
   "metadata": {
    "scrolled": true
   },
   "outputs": [
    {
     "data": {
      "text/html": [
       "<div>\n",
       "<style scoped>\n",
       "    .dataframe tbody tr th:only-of-type {\n",
       "        vertical-align: middle;\n",
       "    }\n",
       "\n",
       "    .dataframe tbody tr th {\n",
       "        vertical-align: top;\n",
       "    }\n",
       "\n",
       "    .dataframe thead th {\n",
       "        text-align: right;\n",
       "    }\n",
       "</style>\n",
       "<table border=\"1\" class=\"dataframe\">\n",
       "  <thead>\n",
       "    <tr style=\"text-align: right;\">\n",
       "      <th></th>\n",
       "      <th>Gender</th>\n",
       "      <th>Recruitment Channel</th>\n",
       "      <th>Awards</th>\n",
       "      <th>Department_0</th>\n",
       "      <th>Department_1</th>\n",
       "      <th>Department_2</th>\n",
       "      <th>Department_3</th>\n",
       "      <th>Region_Employment_0</th>\n",
       "      <th>Region_Employment_1</th>\n",
       "      <th>Region_Employment_2</th>\n",
       "      <th>Region_Employment_3</th>\n",
       "      <th>Region_Employment_4</th>\n",
       "      <th>Region_Employment_5</th>\n",
       "      <th>Education Level_Below Secondary</th>\n",
       "      <th>Education Level_Master's &amp; above</th>\n",
       "    </tr>\n",
       "  </thead>\n",
       "  <tbody>\n",
       "    <tr>\n",
       "      <th>0</th>\n",
       "      <td>1</td>\n",
       "      <td>other</td>\n",
       "      <td>NO</td>\n",
       "      <td>0</td>\n",
       "      <td>0</td>\n",
       "      <td>0</td>\n",
       "      <td>1</td>\n",
       "      <td>0</td>\n",
       "      <td>0</td>\n",
       "      <td>0</td>\n",
       "      <td>0</td>\n",
       "      <td>0</td>\n",
       "      <td>1</td>\n",
       "      <td>0.0</td>\n",
       "      <td>1.0</td>\n",
       "    </tr>\n",
       "    <tr>\n",
       "      <th>1</th>\n",
       "      <td>0</td>\n",
       "      <td>other</td>\n",
       "      <td>NO</td>\n",
       "      <td>0</td>\n",
       "      <td>0</td>\n",
       "      <td>0</td>\n",
       "      <td>1</td>\n",
       "      <td>0</td>\n",
       "      <td>0</td>\n",
       "      <td>0</td>\n",
       "      <td>0</td>\n",
       "      <td>1</td>\n",
       "      <td>0</td>\n",
       "      <td>0.0</td>\n",
       "      <td>1.0</td>\n",
       "    </tr>\n",
       "  </tbody>\n",
       "</table>\n",
       "</div>"
      ],
      "text/plain": [
       "   Gender Recruitment Channel Awards  Department_0  Department_1  \\\n",
       "0       1               other     NO             0             0   \n",
       "1       0               other     NO             0             0   \n",
       "\n",
       "   Department_2  Department_3  Region_Employment_0  Region_Employment_1  \\\n",
       "0             0             1                    0                    0   \n",
       "1             0             1                    0                    0   \n",
       "\n",
       "   Region_Employment_2  Region_Employment_3  Region_Employment_4  \\\n",
       "0                    0                    0                    0   \n",
       "1                    0                    0                    1   \n",
       "\n",
       "   Region_Employment_5  Education Level_Below Secondary  \\\n",
       "0                    1                              0.0   \n",
       "1                    0                              0.0   \n",
       "\n",
       "   Education Level_Master's & above  \n",
       "0                               1.0  \n",
       "1                               1.0  "
      ]
     },
     "execution_count": 2288,
     "metadata": {},
     "output_type": "execute_result"
    }
   ],
   "source": [
    "x_train_cat.head(2)"
   ]
  },
  {
   "cell_type": "code",
   "execution_count": 2289,
   "id": "849ad475",
   "metadata": {},
   "outputs": [],
   "source": [
    "x_test_cat['Gender'] = x_test_cat['Gender'].apply(lambda x : 1 if x == 'm' else 0)"
   ]
  },
  {
   "cell_type": "code",
   "execution_count": 2290,
   "id": "ab76ea63",
   "metadata": {},
   "outputs": [
    {
     "data": {
      "text/html": [
       "<div>\n",
       "<style scoped>\n",
       "    .dataframe tbody tr th:only-of-type {\n",
       "        vertical-align: middle;\n",
       "    }\n",
       "\n",
       "    .dataframe tbody tr th {\n",
       "        vertical-align: top;\n",
       "    }\n",
       "\n",
       "    .dataframe thead th {\n",
       "        text-align: right;\n",
       "    }\n",
       "</style>\n",
       "<table border=\"1\" class=\"dataframe\">\n",
       "  <thead>\n",
       "    <tr style=\"text-align: right;\">\n",
       "      <th></th>\n",
       "      <th>Gender</th>\n",
       "      <th>Recruitment Channel</th>\n",
       "      <th>Awards</th>\n",
       "      <th>Department_0</th>\n",
       "      <th>Department_1</th>\n",
       "      <th>Department_2</th>\n",
       "      <th>Department_3</th>\n",
       "      <th>Region_Employment_0</th>\n",
       "      <th>Region_Employment_1</th>\n",
       "      <th>Region_Employment_2</th>\n",
       "      <th>Region_Employment_3</th>\n",
       "      <th>Region_Employment_4</th>\n",
       "      <th>Region_Employment_5</th>\n",
       "      <th>Education Level_Below Secondary</th>\n",
       "      <th>Education Level_Master's &amp; above</th>\n",
       "    </tr>\n",
       "  </thead>\n",
       "  <tbody>\n",
       "    <tr>\n",
       "      <th>0</th>\n",
       "      <td>1</td>\n",
       "      <td>other</td>\n",
       "      <td>YES</td>\n",
       "      <td>0</td>\n",
       "      <td>0</td>\n",
       "      <td>0</td>\n",
       "      <td>1</td>\n",
       "      <td>0</td>\n",
       "      <td>0</td>\n",
       "      <td>0</td>\n",
       "      <td>0</td>\n",
       "      <td>0</td>\n",
       "      <td>1</td>\n",
       "      <td>0.0</td>\n",
       "      <td>0.0</td>\n",
       "    </tr>\n",
       "    <tr>\n",
       "      <th>1</th>\n",
       "      <td>1</td>\n",
       "      <td>other</td>\n",
       "      <td>NO</td>\n",
       "      <td>0</td>\n",
       "      <td>0</td>\n",
       "      <td>1</td>\n",
       "      <td>0</td>\n",
       "      <td>0</td>\n",
       "      <td>0</td>\n",
       "      <td>0</td>\n",
       "      <td>0</td>\n",
       "      <td>1</td>\n",
       "      <td>0</td>\n",
       "      <td>0.0</td>\n",
       "      <td>0.0</td>\n",
       "    </tr>\n",
       "  </tbody>\n",
       "</table>\n",
       "</div>"
      ],
      "text/plain": [
       "   Gender Recruitment Channel Awards  Department_0  Department_1  \\\n",
       "0       1               other    YES             0             0   \n",
       "1       1               other     NO             0             0   \n",
       "\n",
       "   Department_2  Department_3  Region_Employment_0  Region_Employment_1  \\\n",
       "0             0             1                    0                    0   \n",
       "1             1             0                    0                    0   \n",
       "\n",
       "   Region_Employment_2  Region_Employment_3  Region_Employment_4  \\\n",
       "0                    0                    0                    0   \n",
       "1                    0                    0                    1   \n",
       "\n",
       "   Region_Employment_5  Education Level_Below Secondary  \\\n",
       "0                    1                              0.0   \n",
       "1                    0                              0.0   \n",
       "\n",
       "   Education Level_Master's & above  \n",
       "0                               0.0  \n",
       "1                               0.0  "
      ]
     },
     "execution_count": 2290,
     "metadata": {},
     "output_type": "execute_result"
    }
   ],
   "source": [
    "x_test_cat.head(2)"
   ]
  },
  {
   "cell_type": "markdown",
   "id": "e3c8e577",
   "metadata": {},
   "source": [
    "##### Recruitment Channel Feature X_train & X_test"
   ]
  },
  {
   "cell_type": "code",
   "execution_count": 2291,
   "id": "70aad219",
   "metadata": {},
   "outputs": [
    {
     "data": {
      "text/plain": [
       "array(['other', 'sourcing', 'referred'], dtype=object)"
      ]
     },
     "execution_count": 2291,
     "metadata": {},
     "output_type": "execute_result"
    }
   ],
   "source": [
    "x_train_cat['Recruitment Channel'].unique()"
   ]
  },
  {
   "cell_type": "markdown",
   "id": "5deac722",
   "metadata": {},
   "source": [
    "* Has 3 category can represent into 2 columns in binary encoding and can encoded by one hot encoder into 2 columns by drop any of them \n",
    "* So we will use One Hot Encoding "
   ]
  },
  {
   "cell_type": "code",
   "execution_count": 2292,
   "id": "7f200a02",
   "metadata": {},
   "outputs": [],
   "source": [
    "x_train_cat = One_Hot_Encoder(x_train_cat , 'Recruitment Channel')"
   ]
  },
  {
   "cell_type": "code",
   "execution_count": 2293,
   "id": "94963933",
   "metadata": {
    "scrolled": true
   },
   "outputs": [
    {
     "data": {
      "text/html": [
       "<div>\n",
       "<style scoped>\n",
       "    .dataframe tbody tr th:only-of-type {\n",
       "        vertical-align: middle;\n",
       "    }\n",
       "\n",
       "    .dataframe tbody tr th {\n",
       "        vertical-align: top;\n",
       "    }\n",
       "\n",
       "    .dataframe thead th {\n",
       "        text-align: right;\n",
       "    }\n",
       "</style>\n",
       "<table border=\"1\" class=\"dataframe\">\n",
       "  <thead>\n",
       "    <tr style=\"text-align: right;\">\n",
       "      <th></th>\n",
       "      <th>Gender</th>\n",
       "      <th>Awards</th>\n",
       "      <th>Department_0</th>\n",
       "      <th>Department_1</th>\n",
       "      <th>Department_2</th>\n",
       "      <th>Department_3</th>\n",
       "      <th>Region_Employment_0</th>\n",
       "      <th>Region_Employment_1</th>\n",
       "      <th>Region_Employment_2</th>\n",
       "      <th>Region_Employment_3</th>\n",
       "      <th>Region_Employment_4</th>\n",
       "      <th>Region_Employment_5</th>\n",
       "      <th>Education Level_Below Secondary</th>\n",
       "      <th>Education Level_Master's &amp; above</th>\n",
       "      <th>Recruitment Channel_referred</th>\n",
       "      <th>Recruitment Channel_sourcing</th>\n",
       "    </tr>\n",
       "  </thead>\n",
       "  <tbody>\n",
       "    <tr>\n",
       "      <th>0</th>\n",
       "      <td>1</td>\n",
       "      <td>NO</td>\n",
       "      <td>0</td>\n",
       "      <td>0</td>\n",
       "      <td>0</td>\n",
       "      <td>1</td>\n",
       "      <td>0</td>\n",
       "      <td>0</td>\n",
       "      <td>0</td>\n",
       "      <td>0</td>\n",
       "      <td>0</td>\n",
       "      <td>1</td>\n",
       "      <td>0.0</td>\n",
       "      <td>1.0</td>\n",
       "      <td>0.0</td>\n",
       "      <td>0.0</td>\n",
       "    </tr>\n",
       "    <tr>\n",
       "      <th>1</th>\n",
       "      <td>0</td>\n",
       "      <td>NO</td>\n",
       "      <td>0</td>\n",
       "      <td>0</td>\n",
       "      <td>0</td>\n",
       "      <td>1</td>\n",
       "      <td>0</td>\n",
       "      <td>0</td>\n",
       "      <td>0</td>\n",
       "      <td>0</td>\n",
       "      <td>1</td>\n",
       "      <td>0</td>\n",
       "      <td>0.0</td>\n",
       "      <td>1.0</td>\n",
       "      <td>0.0</td>\n",
       "      <td>0.0</td>\n",
       "    </tr>\n",
       "  </tbody>\n",
       "</table>\n",
       "</div>"
      ],
      "text/plain": [
       "   Gender Awards  Department_0  Department_1  Department_2  Department_3  \\\n",
       "0       1     NO             0             0             0             1   \n",
       "1       0     NO             0             0             0             1   \n",
       "\n",
       "   Region_Employment_0  Region_Employment_1  Region_Employment_2  \\\n",
       "0                    0                    0                    0   \n",
       "1                    0                    0                    0   \n",
       "\n",
       "   Region_Employment_3  Region_Employment_4  Region_Employment_5  \\\n",
       "0                    0                    0                    1   \n",
       "1                    0                    1                    0   \n",
       "\n",
       "   Education Level_Below Secondary  Education Level_Master's & above  \\\n",
       "0                              0.0                               1.0   \n",
       "1                              0.0                               1.0   \n",
       "\n",
       "   Recruitment Channel_referred  Recruitment Channel_sourcing  \n",
       "0                           0.0                           0.0  \n",
       "1                           0.0                           0.0  "
      ]
     },
     "execution_count": 2293,
     "metadata": {},
     "output_type": "execute_result"
    }
   ],
   "source": [
    "x_train_cat.head(2)"
   ]
  },
  {
   "cell_type": "code",
   "execution_count": 2294,
   "id": "de7896cd",
   "metadata": {},
   "outputs": [],
   "source": [
    "x_test_cat = One_Hot_Encoder(x_test_cat , 'Recruitment Channel')"
   ]
  },
  {
   "cell_type": "code",
   "execution_count": 2295,
   "id": "acfa325f",
   "metadata": {},
   "outputs": [
    {
     "data": {
      "text/html": [
       "<div>\n",
       "<style scoped>\n",
       "    .dataframe tbody tr th:only-of-type {\n",
       "        vertical-align: middle;\n",
       "    }\n",
       "\n",
       "    .dataframe tbody tr th {\n",
       "        vertical-align: top;\n",
       "    }\n",
       "\n",
       "    .dataframe thead th {\n",
       "        text-align: right;\n",
       "    }\n",
       "</style>\n",
       "<table border=\"1\" class=\"dataframe\">\n",
       "  <thead>\n",
       "    <tr style=\"text-align: right;\">\n",
       "      <th></th>\n",
       "      <th>Gender</th>\n",
       "      <th>Awards</th>\n",
       "      <th>Department_0</th>\n",
       "      <th>Department_1</th>\n",
       "      <th>Department_2</th>\n",
       "      <th>Department_3</th>\n",
       "      <th>Region_Employment_0</th>\n",
       "      <th>Region_Employment_1</th>\n",
       "      <th>Region_Employment_2</th>\n",
       "      <th>Region_Employment_3</th>\n",
       "      <th>Region_Employment_4</th>\n",
       "      <th>Region_Employment_5</th>\n",
       "      <th>Education Level_Below Secondary</th>\n",
       "      <th>Education Level_Master's &amp; above</th>\n",
       "      <th>Recruitment Channel_referred</th>\n",
       "      <th>Recruitment Channel_sourcing</th>\n",
       "    </tr>\n",
       "  </thead>\n",
       "  <tbody>\n",
       "    <tr>\n",
       "      <th>0</th>\n",
       "      <td>1</td>\n",
       "      <td>YES</td>\n",
       "      <td>0</td>\n",
       "      <td>0</td>\n",
       "      <td>0</td>\n",
       "      <td>1</td>\n",
       "      <td>0</td>\n",
       "      <td>0</td>\n",
       "      <td>0</td>\n",
       "      <td>0</td>\n",
       "      <td>0</td>\n",
       "      <td>1</td>\n",
       "      <td>0.0</td>\n",
       "      <td>0.0</td>\n",
       "      <td>0.0</td>\n",
       "      <td>0.0</td>\n",
       "    </tr>\n",
       "    <tr>\n",
       "      <th>1</th>\n",
       "      <td>1</td>\n",
       "      <td>NO</td>\n",
       "      <td>0</td>\n",
       "      <td>0</td>\n",
       "      <td>1</td>\n",
       "      <td>0</td>\n",
       "      <td>0</td>\n",
       "      <td>0</td>\n",
       "      <td>0</td>\n",
       "      <td>0</td>\n",
       "      <td>1</td>\n",
       "      <td>0</td>\n",
       "      <td>0.0</td>\n",
       "      <td>0.0</td>\n",
       "      <td>0.0</td>\n",
       "      <td>0.0</td>\n",
       "    </tr>\n",
       "  </tbody>\n",
       "</table>\n",
       "</div>"
      ],
      "text/plain": [
       "   Gender Awards  Department_0  Department_1  Department_2  Department_3  \\\n",
       "0       1    YES             0             0             0             1   \n",
       "1       1     NO             0             0             1             0   \n",
       "\n",
       "   Region_Employment_0  Region_Employment_1  Region_Employment_2  \\\n",
       "0                    0                    0                    0   \n",
       "1                    0                    0                    0   \n",
       "\n",
       "   Region_Employment_3  Region_Employment_4  Region_Employment_5  \\\n",
       "0                    0                    0                    1   \n",
       "1                    0                    1                    0   \n",
       "\n",
       "   Education Level_Below Secondary  Education Level_Master's & above  \\\n",
       "0                              0.0                               0.0   \n",
       "1                              0.0                               0.0   \n",
       "\n",
       "   Recruitment Channel_referred  Recruitment Channel_sourcing  \n",
       "0                           0.0                           0.0  \n",
       "1                           0.0                           0.0  "
      ]
     },
     "execution_count": 2295,
     "metadata": {},
     "output_type": "execute_result"
    }
   ],
   "source": [
    "x_test_cat.head(2)"
   ]
  },
  {
   "cell_type": "markdown",
   "id": "f9fcf555",
   "metadata": {},
   "source": [
    "###### Awardes Feature X_train & x_test"
   ]
  },
  {
   "cell_type": "code",
   "execution_count": 2296,
   "id": "6d721433",
   "metadata": {},
   "outputs": [
    {
     "data": {
      "text/plain": [
       "array(['NO', 'YES'], dtype=object)"
      ]
     },
     "execution_count": 2296,
     "metadata": {},
     "output_type": "execute_result"
    }
   ],
   "source": [
    "x_train_cat['Awards'].unique()"
   ]
  },
  {
   "cell_type": "code",
   "execution_count": 2297,
   "id": "2d6c72a0",
   "metadata": {},
   "outputs": [],
   "source": [
    "x_train_cat['Awards'] = x_train_cat['Awards'].map(mapper)"
   ]
  },
  {
   "cell_type": "code",
   "execution_count": 2298,
   "id": "24af32b3",
   "metadata": {},
   "outputs": [
    {
     "data": {
      "text/plain": [
       "array([0, 1], dtype=int64)"
      ]
     },
     "execution_count": 2298,
     "metadata": {},
     "output_type": "execute_result"
    }
   ],
   "source": [
    "x_train_cat['Awards'].unique()"
   ]
  },
  {
   "cell_type": "code",
   "execution_count": 2299,
   "id": "3cb7b206",
   "metadata": {
    "scrolled": false
   },
   "outputs": [
    {
     "data": {
      "text/html": [
       "<div>\n",
       "<style scoped>\n",
       "    .dataframe tbody tr th:only-of-type {\n",
       "        vertical-align: middle;\n",
       "    }\n",
       "\n",
       "    .dataframe tbody tr th {\n",
       "        vertical-align: top;\n",
       "    }\n",
       "\n",
       "    .dataframe thead th {\n",
       "        text-align: right;\n",
       "    }\n",
       "</style>\n",
       "<table border=\"1\" class=\"dataframe\">\n",
       "  <thead>\n",
       "    <tr style=\"text-align: right;\">\n",
       "      <th></th>\n",
       "      <th>Gender</th>\n",
       "      <th>Awards</th>\n",
       "      <th>Department_0</th>\n",
       "      <th>Department_1</th>\n",
       "      <th>Department_2</th>\n",
       "      <th>Department_3</th>\n",
       "      <th>Region_Employment_0</th>\n",
       "      <th>Region_Employment_1</th>\n",
       "      <th>Region_Employment_2</th>\n",
       "      <th>Region_Employment_3</th>\n",
       "      <th>Region_Employment_4</th>\n",
       "      <th>Region_Employment_5</th>\n",
       "      <th>Education Level_Below Secondary</th>\n",
       "      <th>Education Level_Master's &amp; above</th>\n",
       "      <th>Recruitment Channel_referred</th>\n",
       "      <th>Recruitment Channel_sourcing</th>\n",
       "    </tr>\n",
       "  </thead>\n",
       "  <tbody>\n",
       "    <tr>\n",
       "      <th>0</th>\n",
       "      <td>1</td>\n",
       "      <td>0</td>\n",
       "      <td>0</td>\n",
       "      <td>0</td>\n",
       "      <td>0</td>\n",
       "      <td>1</td>\n",
       "      <td>0</td>\n",
       "      <td>0</td>\n",
       "      <td>0</td>\n",
       "      <td>0</td>\n",
       "      <td>0</td>\n",
       "      <td>1</td>\n",
       "      <td>0.0</td>\n",
       "      <td>1.0</td>\n",
       "      <td>0.0</td>\n",
       "      <td>0.0</td>\n",
       "    </tr>\n",
       "    <tr>\n",
       "      <th>1</th>\n",
       "      <td>0</td>\n",
       "      <td>0</td>\n",
       "      <td>0</td>\n",
       "      <td>0</td>\n",
       "      <td>0</td>\n",
       "      <td>1</td>\n",
       "      <td>0</td>\n",
       "      <td>0</td>\n",
       "      <td>0</td>\n",
       "      <td>0</td>\n",
       "      <td>1</td>\n",
       "      <td>0</td>\n",
       "      <td>0.0</td>\n",
       "      <td>1.0</td>\n",
       "      <td>0.0</td>\n",
       "      <td>0.0</td>\n",
       "    </tr>\n",
       "  </tbody>\n",
       "</table>\n",
       "</div>"
      ],
      "text/plain": [
       "   Gender  Awards  Department_0  Department_1  Department_2  Department_3  \\\n",
       "0       1       0             0             0             0             1   \n",
       "1       0       0             0             0             0             1   \n",
       "\n",
       "   Region_Employment_0  Region_Employment_1  Region_Employment_2  \\\n",
       "0                    0                    0                    0   \n",
       "1                    0                    0                    0   \n",
       "\n",
       "   Region_Employment_3  Region_Employment_4  Region_Employment_5  \\\n",
       "0                    0                    0                    1   \n",
       "1                    0                    1                    0   \n",
       "\n",
       "   Education Level_Below Secondary  Education Level_Master's & above  \\\n",
       "0                              0.0                               1.0   \n",
       "1                              0.0                               1.0   \n",
       "\n",
       "   Recruitment Channel_referred  Recruitment Channel_sourcing  \n",
       "0                           0.0                           0.0  \n",
       "1                           0.0                           0.0  "
      ]
     },
     "execution_count": 2299,
     "metadata": {},
     "output_type": "execute_result"
    }
   ],
   "source": [
    "x_train_cat.head(2)"
   ]
  },
  {
   "cell_type": "code",
   "execution_count": 2300,
   "id": "b55aaf7d",
   "metadata": {},
   "outputs": [],
   "source": [
    "x_test_cat['Awards'] = x_test_cat['Awards'].map(mapper)"
   ]
  },
  {
   "cell_type": "code",
   "execution_count": 2301,
   "id": "2eb4f936",
   "metadata": {},
   "outputs": [
    {
     "data": {
      "text/html": [
       "<div>\n",
       "<style scoped>\n",
       "    .dataframe tbody tr th:only-of-type {\n",
       "        vertical-align: middle;\n",
       "    }\n",
       "\n",
       "    .dataframe tbody tr th {\n",
       "        vertical-align: top;\n",
       "    }\n",
       "\n",
       "    .dataframe thead th {\n",
       "        text-align: right;\n",
       "    }\n",
       "</style>\n",
       "<table border=\"1\" class=\"dataframe\">\n",
       "  <thead>\n",
       "    <tr style=\"text-align: right;\">\n",
       "      <th></th>\n",
       "      <th>Gender</th>\n",
       "      <th>Awards</th>\n",
       "      <th>Department_0</th>\n",
       "      <th>Department_1</th>\n",
       "      <th>Department_2</th>\n",
       "      <th>Department_3</th>\n",
       "      <th>Region_Employment_0</th>\n",
       "      <th>Region_Employment_1</th>\n",
       "      <th>Region_Employment_2</th>\n",
       "      <th>Region_Employment_3</th>\n",
       "      <th>Region_Employment_4</th>\n",
       "      <th>Region_Employment_5</th>\n",
       "      <th>Education Level_Below Secondary</th>\n",
       "      <th>Education Level_Master's &amp; above</th>\n",
       "      <th>Recruitment Channel_referred</th>\n",
       "      <th>Recruitment Channel_sourcing</th>\n",
       "    </tr>\n",
       "  </thead>\n",
       "  <tbody>\n",
       "    <tr>\n",
       "      <th>0</th>\n",
       "      <td>1</td>\n",
       "      <td>1</td>\n",
       "      <td>0</td>\n",
       "      <td>0</td>\n",
       "      <td>0</td>\n",
       "      <td>1</td>\n",
       "      <td>0</td>\n",
       "      <td>0</td>\n",
       "      <td>0</td>\n",
       "      <td>0</td>\n",
       "      <td>0</td>\n",
       "      <td>1</td>\n",
       "      <td>0.0</td>\n",
       "      <td>0.0</td>\n",
       "      <td>0.0</td>\n",
       "      <td>0.0</td>\n",
       "    </tr>\n",
       "    <tr>\n",
       "      <th>1</th>\n",
       "      <td>1</td>\n",
       "      <td>0</td>\n",
       "      <td>0</td>\n",
       "      <td>0</td>\n",
       "      <td>1</td>\n",
       "      <td>0</td>\n",
       "      <td>0</td>\n",
       "      <td>0</td>\n",
       "      <td>0</td>\n",
       "      <td>0</td>\n",
       "      <td>1</td>\n",
       "      <td>0</td>\n",
       "      <td>0.0</td>\n",
       "      <td>0.0</td>\n",
       "      <td>0.0</td>\n",
       "      <td>0.0</td>\n",
       "    </tr>\n",
       "  </tbody>\n",
       "</table>\n",
       "</div>"
      ],
      "text/plain": [
       "   Gender  Awards  Department_0  Department_1  Department_2  Department_3  \\\n",
       "0       1       1             0             0             0             1   \n",
       "1       1       0             0             0             1             0   \n",
       "\n",
       "   Region_Employment_0  Region_Employment_1  Region_Employment_2  \\\n",
       "0                    0                    0                    0   \n",
       "1                    0                    0                    0   \n",
       "\n",
       "   Region_Employment_3  Region_Employment_4  Region_Employment_5  \\\n",
       "0                    0                    0                    1   \n",
       "1                    0                    1                    0   \n",
       "\n",
       "   Education Level_Below Secondary  Education Level_Master's & above  \\\n",
       "0                              0.0                               0.0   \n",
       "1                              0.0                               0.0   \n",
       "\n",
       "   Recruitment Channel_referred  Recruitment Channel_sourcing  \n",
       "0                           0.0                           0.0  \n",
       "1                           0.0                           0.0  "
      ]
     },
     "execution_count": 2301,
     "metadata": {},
     "output_type": "execute_result"
    }
   ],
   "source": [
    "x_test_cat.head(2)"
   ]
  },
  {
   "cell_type": "markdown",
   "id": "bc48a294",
   "metadata": {},
   "source": [
    "### Prepare Numerical Columns For X_train & X_test\n",
    "* Outliers Point"
   ]
  },
  {
   "cell_type": "code",
   "execution_count": 2302,
   "id": "0995a22b",
   "metadata": {},
   "outputs": [
    {
     "data": {
      "text/plain": [
       "Index(['NO_Trainings_LstYear', 'Age', 'previous_year_rating', 'Service Length',\n",
       "       'Avg_Training_Score', 'Is Promoted'],\n",
       "      dtype='object')"
      ]
     },
     "execution_count": 2302,
     "metadata": {},
     "output_type": "execute_result"
    }
   ],
   "source": [
    "x_train_num.columns"
   ]
  },
  {
   "cell_type": "code",
   "execution_count": 2303,
   "id": "8db4d260",
   "metadata": {},
   "outputs": [
    {
     "data": {
      "text/plain": [
       "<AxesSubplot:xlabel='Age'>"
      ]
     },
     "execution_count": 2303,
     "metadata": {},
     "output_type": "execute_result"
    },
    {
     "data": {
      "image/png": "[encoded data removed]",
      "text/plain": [
       "<Figure size 432x288 with 1 Axes>"
      ]
     },
     "metadata": {
      "needs_background": "light"
     },
     "output_type": "display_data"
    }
   ],
   "source": [
    "sns.boxplot(data = x_train_num , x = 'Age')"
   ]
  },
  {
   "cell_type": "markdown",
   "id": "8022bbb3",
   "metadata": {},
   "source": [
    "* For Age Feature there was values 0 !! , we can fix it by median point"
   ]
  },
  {
   "cell_type": "code",
   "execution_count": 2304,
   "id": "b43714fa",
   "metadata": {
    "scrolled": true
   },
   "outputs": [
    {
     "data": {
      "text/plain": [
       "237"
      ]
     },
     "execution_count": 2304,
     "metadata": {},
     "output_type": "execute_result"
    }
   ],
   "source": [
    "x_train_num[ x_train_num['Age'] == 0].shape[0]"
   ]
  },
  {
   "cell_type": "code",
   "execution_count": 2305,
   "id": "18c688ac",
   "metadata": {},
   "outputs": [],
   "source": [
    "idx = x_train_num[ x_train_num['Age'] == 0].index"
   ]
  },
  {
   "cell_type": "code",
   "execution_count": 2306,
   "id": "f43adcf0",
   "metadata": {},
   "outputs": [],
   "source": [
    "x_train_num['Age'].loc[idx] = x_train_num['Age'].median()"
   ]
  },
  {
   "cell_type": "code",
   "execution_count": 2307,
   "id": "1c1f0782",
   "metadata": {},
   "outputs": [
    {
     "data": {
      "text/plain": [
       "<AxesSubplot:xlabel='Age'>"
      ]
     },
     "execution_count": 2307,
     "metadata": {},
     "output_type": "execute_result"
    },
    {
     "data": {
      "image/png": "[encoded data removed]",
      "text/plain": [
       "<Figure size 432x288 with 1 Axes>"
      ]
     },
     "metadata": {
      "needs_background": "light"
     },
     "output_type": "display_data"
    }
   ],
   "source": [
    "sns.boxplot(data = x_train_num , x = 'Age')"
   ]
  },
  {
   "cell_type": "code",
   "execution_count": 2308,
   "id": "0b22fec1",
   "metadata": {},
   "outputs": [],
   "source": [
    "outlier_idx = Detect_Outlier(x_train_num , 'Age')"
   ]
  },
  {
   "cell_type": "code",
   "execution_count": 2309,
   "id": "db9e9f89",
   "metadata": {},
   "outputs": [
    {
     "data": {
      "text/plain": [
       "array([57., 55., 54., 59., 53., 60., 58., 56.])"
      ]
     },
     "execution_count": 2309,
     "metadata": {},
     "output_type": "execute_result"
    }
   ],
   "source": [
    "x_train_num['Age'].loc[outlier_idx].unique()"
   ]
  },
  {
   "cell_type": "markdown",
   "id": "49760e25",
   "metadata": {},
   "source": [
    "* Age with these values no outlier or strange values so keep it "
   ]
  },
  {
   "cell_type": "code",
   "execution_count": 2310,
   "id": "8afc27c6",
   "metadata": {},
   "outputs": [
    {
     "data": {
      "text/plain": [
       "array([ 3, 17,  7,  2,  6,  4,  1,  5, 10,  9,  8, 15, 11, 16, 13, 25, 12,\n",
       "       20, 19, 22, 18, 14, 21, 24, 23, 29, 27, 34, 28, 31, 26, 30, 32, 33,\n",
       "       37], dtype=int64)"
      ]
     },
     "execution_count": 2310,
     "metadata": {},
     "output_type": "execute_result"
    }
   ],
   "source": [
    "x_train_num['Service Length'].unique()"
   ]
  },
  {
   "cell_type": "code",
   "execution_count": 2311,
   "id": "8ef6773e",
   "metadata": {},
   "outputs": [
    {
     "data": {
      "text/plain": [
       "<AxesSubplot:xlabel='Service Length'>"
      ]
     },
     "execution_count": 2311,
     "metadata": {},
     "output_type": "execute_result"
    },
    {
     "data": {
      "image/png": "[encoded data removed]",
      "text/plain": [
       "<Figure size 432x288 with 1 Axes>"
      ]
     },
     "metadata": {
      "needs_background": "light"
     },
     "output_type": "display_data"
    }
   ],
   "source": [
    "sns.boxplot(data = x_train_num , x = 'Service Length')"
   ]
  },
  {
   "cell_type": "code",
   "execution_count": 2312,
   "id": "b865b648",
   "metadata": {},
   "outputs": [],
   "source": [
    "outlier_idx = Detect_Outlier(x_train_num , 'Service Length')"
   ]
  },
  {
   "cell_type": "code",
   "execution_count": 2313,
   "id": "5d906245",
   "metadata": {},
   "outputs": [
    {
     "data": {
      "text/html": [
       "<div>\n",
       "<style scoped>\n",
       "    .dataframe tbody tr th:only-of-type {\n",
       "        vertical-align: middle;\n",
       "    }\n",
       "\n",
       "    .dataframe tbody tr th {\n",
       "        vertical-align: top;\n",
       "    }\n",
       "\n",
       "    .dataframe thead th {\n",
       "        text-align: right;\n",
       "    }\n",
       "</style>\n",
       "<table border=\"1\" class=\"dataframe\">\n",
       "  <thead>\n",
       "    <tr style=\"text-align: right;\">\n",
       "      <th></th>\n",
       "      <th>NO_Trainings_LstYear</th>\n",
       "      <th>Age</th>\n",
       "      <th>previous_year_rating</th>\n",
       "      <th>Service Length</th>\n",
       "      <th>Avg_Training_Score</th>\n",
       "      <th>Is Promoted</th>\n",
       "    </tr>\n",
       "  </thead>\n",
       "  <tbody>\n",
       "    <tr>\n",
       "      <th>17667</th>\n",
       "      <td>2</td>\n",
       "      <td>60.0</td>\n",
       "      <td>5.0</td>\n",
       "      <td>37</td>\n",
       "      <td>48.0</td>\n",
       "      <td>0</td>\n",
       "    </tr>\n",
       "  </tbody>\n",
       "</table>\n",
       "</div>"
      ],
      "text/plain": [
       "       NO_Trainings_LstYear   Age  previous_year_rating  Service Length  \\\n",
       "17667                     2  60.0                   5.0              37   \n",
       "\n",
       "       Avg_Training_Score  Is Promoted  \n",
       "17667                48.0            0  "
      ]
     },
     "execution_count": 2313,
     "metadata": {},
     "output_type": "execute_result"
    }
   ],
   "source": [
    "x_train_num[x_train_num['Service Length'] > 35]"
   ]
  },
  {
   "cell_type": "code",
   "execution_count": 2314,
   "id": "af1ca54d",
   "metadata": {
    "scrolled": true
   },
   "outputs": [
    {
     "data": {
      "text/html": [
       "<div>\n",
       "<style scoped>\n",
       "    .dataframe tbody tr th:only-of-type {\n",
       "        vertical-align: middle;\n",
       "    }\n",
       "\n",
       "    .dataframe tbody tr th {\n",
       "        vertical-align: top;\n",
       "    }\n",
       "\n",
       "    .dataframe thead th {\n",
       "        text-align: right;\n",
       "    }\n",
       "</style>\n",
       "<table border=\"1\" class=\"dataframe\">\n",
       "  <thead>\n",
       "    <tr style=\"text-align: right;\">\n",
       "      <th></th>\n",
       "      <th>NO_Trainings_LstYear</th>\n",
       "      <th>Age</th>\n",
       "      <th>previous_year_rating</th>\n",
       "      <th>Service Length</th>\n",
       "      <th>Avg_Training_Score</th>\n",
       "      <th>Is Promoted</th>\n",
       "    </tr>\n",
       "  </thead>\n",
       "  <tbody>\n",
       "    <tr>\n",
       "      <th>1</th>\n",
       "      <td>1</td>\n",
       "      <td>43.0</td>\n",
       "      <td>3.0</td>\n",
       "      <td>17</td>\n",
       "      <td>74.0</td>\n",
       "      <td>0</td>\n",
       "    </tr>\n",
       "    <tr>\n",
       "      <th>30</th>\n",
       "      <td>1</td>\n",
       "      <td>45.0</td>\n",
       "      <td>3.0</td>\n",
       "      <td>17</td>\n",
       "      <td>72.0</td>\n",
       "      <td>0</td>\n",
       "    </tr>\n",
       "    <tr>\n",
       "      <th>67</th>\n",
       "      <td>1</td>\n",
       "      <td>47.0</td>\n",
       "      <td>2.0</td>\n",
       "      <td>16</td>\n",
       "      <td>81.0</td>\n",
       "      <td>0</td>\n",
       "    </tr>\n",
       "    <tr>\n",
       "      <th>122</th>\n",
       "      <td>1</td>\n",
       "      <td>43.0</td>\n",
       "      <td>3.0</td>\n",
       "      <td>16</td>\n",
       "      <td>87.0</td>\n",
       "      <td>0</td>\n",
       "    </tr>\n",
       "    <tr>\n",
       "      <th>164</th>\n",
       "      <td>1</td>\n",
       "      <td>54.0</td>\n",
       "      <td>1.0</td>\n",
       "      <td>25</td>\n",
       "      <td>46.0</td>\n",
       "      <td>0</td>\n",
       "    </tr>\n",
       "    <tr>\n",
       "      <th>...</th>\n",
       "      <td>...</td>\n",
       "      <td>...</td>\n",
       "      <td>...</td>\n",
       "      <td>...</td>\n",
       "      <td>...</td>\n",
       "      <td>...</td>\n",
       "    </tr>\n",
       "    <tr>\n",
       "      <th>36782</th>\n",
       "      <td>1</td>\n",
       "      <td>50.0</td>\n",
       "      <td>5.0</td>\n",
       "      <td>19</td>\n",
       "      <td>57.0</td>\n",
       "      <td>0</td>\n",
       "    </tr>\n",
       "    <tr>\n",
       "      <th>36783</th>\n",
       "      <td>2</td>\n",
       "      <td>50.0</td>\n",
       "      <td>1.0</td>\n",
       "      <td>19</td>\n",
       "      <td>46.0</td>\n",
       "      <td>0</td>\n",
       "    </tr>\n",
       "    <tr>\n",
       "      <th>36885</th>\n",
       "      <td>1</td>\n",
       "      <td>55.0</td>\n",
       "      <td>4.0</td>\n",
       "      <td>18</td>\n",
       "      <td>68.0</td>\n",
       "      <td>0</td>\n",
       "    </tr>\n",
       "    <tr>\n",
       "      <th>36895</th>\n",
       "      <td>1</td>\n",
       "      <td>58.0</td>\n",
       "      <td>5.0</td>\n",
       "      <td>16</td>\n",
       "      <td>72.0</td>\n",
       "      <td>1</td>\n",
       "    </tr>\n",
       "    <tr>\n",
       "      <th>36925</th>\n",
       "      <td>1</td>\n",
       "      <td>50.0</td>\n",
       "      <td>1.0</td>\n",
       "      <td>18</td>\n",
       "      <td>50.0</td>\n",
       "      <td>0</td>\n",
       "    </tr>\n",
       "  </tbody>\n",
       "</table>\n",
       "<p>1622 rows × 6 columns</p>\n",
       "</div>"
      ],
      "text/plain": [
       "       NO_Trainings_LstYear   Age  previous_year_rating  Service Length  \\\n",
       "1                         1  43.0                   3.0              17   \n",
       "30                        1  45.0                   3.0              17   \n",
       "67                        1  47.0                   2.0              16   \n",
       "122                       1  43.0                   3.0              16   \n",
       "164                       1  54.0                   1.0              25   \n",
       "...                     ...   ...                   ...             ...   \n",
       "36782                     1  50.0                   5.0              19   \n",
       "36783                     2  50.0                   1.0              19   \n",
       "36885                     1  55.0                   4.0              18   \n",
       "36895                     1  58.0                   5.0              16   \n",
       "36925                     1  50.0                   1.0              18   \n",
       "\n",
       "       Avg_Training_Score  Is Promoted  \n",
       "1                    74.0            0  \n",
       "30                   72.0            0  \n",
       "67                   81.0            0  \n",
       "122                  87.0            0  \n",
       "164                  46.0            0  \n",
       "...                   ...          ...  \n",
       "36782                57.0            0  \n",
       "36783                46.0            0  \n",
       "36885                68.0            0  \n",
       "36895                72.0            1  \n",
       "36925                50.0            0  \n",
       "\n",
       "[1622 rows x 6 columns]"
      ]
     },
     "execution_count": 2314,
     "metadata": {},
     "output_type": "execute_result"
    }
   ],
   "source": [
    "x_train_num.loc[outlier_idx]"
   ]
  },
  {
   "cell_type": "markdown",
   "id": "98d1cad2",
   "metadata": {},
   "source": [
    "* Based on Age feature thes values of service length is logic so keep it too"
   ]
  },
  {
   "cell_type": "code",
   "execution_count": 2315,
   "id": "87ce774d",
   "metadata": {},
   "outputs": [
    {
     "data": {
      "text/plain": [
       "0"
      ]
     },
     "execution_count": 2315,
     "metadata": {},
     "output_type": "execute_result"
    }
   ],
   "source": [
    "len(Detect_Outlier(x_train_num , 'Avg_Training_Score'))"
   ]
  },
  {
   "cell_type": "code",
   "execution_count": 2316,
   "id": "71a47569",
   "metadata": {
    "scrolled": true
   },
   "outputs": [
    {
     "data": {
      "text/plain": [
       "<AxesSubplot:xlabel='Avg_Training_Score'>"
      ]
     },
     "execution_count": 2316,
     "metadata": {},
     "output_type": "execute_result"
    },
    {
     "data": {
      "image/png": "[encoded data removed]",
      "text/plain": [
       "<Figure size 432x288 with 1 Axes>"
      ]
     },
     "metadata": {
      "needs_background": "light"
     },
     "output_type": "display_data"
    }
   ],
   "source": [
    "sns.boxplot(data = x_train_num , x = 'Avg_Training_Score')"
   ]
  },
  {
   "cell_type": "markdown",
   "id": "04084803",
   "metadata": {},
   "source": [
    "* Has NO Outlier Points "
   ]
  },
  {
   "cell_type": "code",
   "execution_count": 2317,
   "id": "f4bf582d",
   "metadata": {},
   "outputs": [
    {
     "data": {
      "text/plain": [
       "array([25., 31., 45., 34., 35., 33., 28., 29., 47., 46., 38., 40., 48.,\n",
       "       24., 32., 44., 58., 51., 30., 42., 43., 27., 26., 52., 36., 41.,\n",
       "       57., 49., 39., 23., 54., 37., 50., 55., 59., 56., 22.,  0., 53.,\n",
       "       60., 21., 20.])"
      ]
     },
     "execution_count": 2317,
     "metadata": {},
     "output_type": "execute_result"
    }
   ],
   "source": [
    "x_test_num['Age'].unique()"
   ]
  },
  {
   "cell_type": "code",
   "execution_count": 2318,
   "id": "bed65dc5",
   "metadata": {},
   "outputs": [
    {
     "data": {
      "text/plain": [
       "<AxesSubplot:xlabel='Age'>"
      ]
     },
     "execution_count": 2318,
     "metadata": {},
     "output_type": "execute_result"
    },
    {
     "data": {
      "image/png": "[encoded data removed]",
      "text/plain": [
       "<Figure size 432x288 with 1 Axes>"
      ]
     },
     "metadata": {
      "needs_background": "light"
     },
     "output_type": "display_data"
    }
   ],
   "source": [
    "sns.boxplot(data = x_test_num , x = 'Age')"
   ]
  },
  {
   "cell_type": "markdown",
   "id": "ee120806",
   "metadata": {},
   "source": [
    "* As x_train age with 0 values !! "
   ]
  },
  {
   "cell_type": "code",
   "execution_count": 2319,
   "id": "852749a6",
   "metadata": {},
   "outputs": [],
   "source": [
    "idx0 = x_test_num[x_test_num['Age'] == 0].index"
   ]
  },
  {
   "cell_type": "code",
   "execution_count": 2320,
   "id": "64a0d742",
   "metadata": {},
   "outputs": [],
   "source": [
    "x_test_num['Age'].loc[idx0] = x_test_num['Age'].median()"
   ]
  },
  {
   "cell_type": "code",
   "execution_count": 2321,
   "id": "1a6dce95",
   "metadata": {
    "scrolled": true
   },
   "outputs": [
    {
     "data": {
      "text/plain": [
       "<AxesSubplot:xlabel='Age'>"
      ]
     },
     "execution_count": 2321,
     "metadata": {},
     "output_type": "execute_result"
    },
    {
     "data": {
      "image/png": "[encoded data removed]",
      "text/plain": [
       "<Figure size 432x288 with 1 Axes>"
      ]
     },
     "metadata": {
      "needs_background": "light"
     },
     "output_type": "display_data"
    }
   ],
   "source": [
    "sns.boxplot(data = x_test_num , x = 'Age')"
   ]
  },
  {
   "cell_type": "markdown",
   "id": "6740196a",
   "metadata": {},
   "source": [
    "* other outlier values is logical values and make and variance in our data so keep it too "
   ]
  },
  {
   "cell_type": "code",
   "execution_count": 2322,
   "id": "6d50cce1",
   "metadata": {},
   "outputs": [
    {
     "data": {
      "text/plain": [
       "<AxesSubplot:xlabel='Avg_Training_Score'>"
      ]
     },
     "execution_count": 2322,
     "metadata": {},
     "output_type": "execute_result"
    },
    {
     "data": {
      "image/png": "[encoded data removed]",
      "text/plain": [
       "<Figure size 432x288 with 1 Axes>"
      ]
     },
     "metadata": {
      "needs_background": "light"
     },
     "output_type": "display_data"
    }
   ],
   "source": [
    "sns.boxplot(data = x_test_num , x = 'Avg_Training_Score')"
   ]
  },
  {
   "cell_type": "markdown",
   "id": "b6b0c9c2",
   "metadata": {},
   "source": [
    "* NO Outlier Points "
   ]
  },
  {
   "cell_type": "code",
   "execution_count": 2323,
   "id": "8b536e0b",
   "metadata": {},
   "outputs": [
    {
     "data": {
      "text/plain": [
       "<AxesSubplot:xlabel='Service Length'>"
      ]
     },
     "execution_count": 2323,
     "metadata": {},
     "output_type": "execute_result"
    },
    {
     "data": {
      "image/png": "[encoded data removed]",
      "text/plain": [
       "<Figure size 432x288 with 1 Axes>"
      ]
     },
     "metadata": {
      "needs_background": "light"
     },
     "output_type": "display_data"
    }
   ],
   "source": [
    "sns.boxplot(data = x_test_num , x = 'Service Length')"
   ]
  },
  {
   "cell_type": "code",
   "execution_count": 2324,
   "id": "9fbe9029",
   "metadata": {},
   "outputs": [],
   "source": [
    "otlr_idx = Detect_Outlier(x_test_num , 'Service Length')"
   ]
  },
  {
   "cell_type": "code",
   "execution_count": 2325,
   "id": "529a0dbc",
   "metadata": {},
   "outputs": [
    {
     "data": {
      "text/html": [
       "<div>\n",
       "<style scoped>\n",
       "    .dataframe tbody tr th:only-of-type {\n",
       "        vertical-align: middle;\n",
       "    }\n",
       "\n",
       "    .dataframe tbody tr th {\n",
       "        vertical-align: top;\n",
       "    }\n",
       "\n",
       "    .dataframe thead th {\n",
       "        text-align: right;\n",
       "    }\n",
       "</style>\n",
       "<table border=\"1\" class=\"dataframe\">\n",
       "  <thead>\n",
       "    <tr style=\"text-align: right;\">\n",
       "      <th></th>\n",
       "      <th>NO_Trainings_LstYear</th>\n",
       "      <th>Age</th>\n",
       "      <th>previous_year_rating</th>\n",
       "      <th>Service Length</th>\n",
       "      <th>Avg_Training_Score</th>\n",
       "      <th>Is Promoted</th>\n",
       "    </tr>\n",
       "  </thead>\n",
       "  <tbody>\n",
       "    <tr>\n",
       "      <th>9</th>\n",
       "      <td>1</td>\n",
       "      <td>47.0</td>\n",
       "      <td>4.0</td>\n",
       "      <td>15</td>\n",
       "      <td>58.0</td>\n",
       "      <td>0</td>\n",
       "    </tr>\n",
       "    <tr>\n",
       "      <th>17</th>\n",
       "      <td>1</td>\n",
       "      <td>48.0</td>\n",
       "      <td>5.0</td>\n",
       "      <td>20</td>\n",
       "      <td>51.0</td>\n",
       "      <td>0</td>\n",
       "    </tr>\n",
       "    <tr>\n",
       "      <th>36</th>\n",
       "      <td>1</td>\n",
       "      <td>43.0</td>\n",
       "      <td>3.0</td>\n",
       "      <td>16</td>\n",
       "      <td>49.0</td>\n",
       "      <td>0</td>\n",
       "    </tr>\n",
       "    <tr>\n",
       "      <th>39</th>\n",
       "      <td>1</td>\n",
       "      <td>52.0</td>\n",
       "      <td>4.0</td>\n",
       "      <td>15</td>\n",
       "      <td>77.0</td>\n",
       "      <td>0</td>\n",
       "    </tr>\n",
       "    <tr>\n",
       "      <th>41</th>\n",
       "      <td>1</td>\n",
       "      <td>47.0</td>\n",
       "      <td>3.0</td>\n",
       "      <td>17</td>\n",
       "      <td>48.0</td>\n",
       "      <td>0</td>\n",
       "    </tr>\n",
       "    <tr>\n",
       "      <th>...</th>\n",
       "      <td>...</td>\n",
       "      <td>...</td>\n",
       "      <td>...</td>\n",
       "      <td>...</td>\n",
       "      <td>...</td>\n",
       "      <td>...</td>\n",
       "    </tr>\n",
       "    <tr>\n",
       "      <th>12265</th>\n",
       "      <td>1</td>\n",
       "      <td>58.0</td>\n",
       "      <td>4.0</td>\n",
       "      <td>26</td>\n",
       "      <td>71.0</td>\n",
       "      <td>0</td>\n",
       "    </tr>\n",
       "    <tr>\n",
       "      <th>12303</th>\n",
       "      <td>1</td>\n",
       "      <td>45.0</td>\n",
       "      <td>5.0</td>\n",
       "      <td>14</td>\n",
       "      <td>56.0</td>\n",
       "      <td>0</td>\n",
       "    </tr>\n",
       "    <tr>\n",
       "      <th>12304</th>\n",
       "      <td>1</td>\n",
       "      <td>48.0</td>\n",
       "      <td>1.0</td>\n",
       "      <td>19</td>\n",
       "      <td>48.0</td>\n",
       "      <td>0</td>\n",
       "    </tr>\n",
       "    <tr>\n",
       "      <th>12306</th>\n",
       "      <td>2</td>\n",
       "      <td>50.0</td>\n",
       "      <td>3.0</td>\n",
       "      <td>17</td>\n",
       "      <td>50.0</td>\n",
       "      <td>0</td>\n",
       "    </tr>\n",
       "    <tr>\n",
       "      <th>12324</th>\n",
       "      <td>1</td>\n",
       "      <td>49.0</td>\n",
       "      <td>1.0</td>\n",
       "      <td>15</td>\n",
       "      <td>63.0</td>\n",
       "      <td>1</td>\n",
       "    </tr>\n",
       "  </tbody>\n",
       "</table>\n",
       "<p>793 rows × 6 columns</p>\n",
       "</div>"
      ],
      "text/plain": [
       "       NO_Trainings_LstYear   Age  previous_year_rating  Service Length  \\\n",
       "9                         1  47.0                   4.0              15   \n",
       "17                        1  48.0                   5.0              20   \n",
       "36                        1  43.0                   3.0              16   \n",
       "39                        1  52.0                   4.0              15   \n",
       "41                        1  47.0                   3.0              17   \n",
       "...                     ...   ...                   ...             ...   \n",
       "12265                     1  58.0                   4.0              26   \n",
       "12303                     1  45.0                   5.0              14   \n",
       "12304                     1  48.0                   1.0              19   \n",
       "12306                     2  50.0                   3.0              17   \n",
       "12324                     1  49.0                   1.0              15   \n",
       "\n",
       "       Avg_Training_Score  Is Promoted  \n",
       "9                    58.0            0  \n",
       "17                   51.0            0  \n",
       "36                   49.0            0  \n",
       "39                   77.0            0  \n",
       "41                   48.0            0  \n",
       "...                   ...          ...  \n",
       "12265                71.0            0  \n",
       "12303                56.0            0  \n",
       "12304                48.0            0  \n",
       "12306                50.0            0  \n",
       "12324                63.0            1  \n",
       "\n",
       "[793 rows x 6 columns]"
      ]
     },
     "execution_count": 2325,
     "metadata": {},
     "output_type": "execute_result"
    }
   ],
   "source": [
    "x_test_num.loc[otlr_idx]"
   ]
  },
  {
   "cell_type": "markdown",
   "id": "b27c8407",
   "metadata": {},
   "source": [
    "* other outlier values is logical values and make and variance in our data"
   ]
  },
  {
   "cell_type": "markdown",
   "id": "ba207bd9",
   "metadata": {},
   "source": [
    "### NOW We Complete our Data Preprocessing \n",
    "* combine categorical and numerical columns for train & test"
   ]
  },
  {
   "cell_type": "code",
   "execution_count": 2326,
   "id": "6750ab06",
   "metadata": {},
   "outputs": [],
   "source": [
    "x_train = pd.concat([x_train_cat , x_train_num] , axis = 1)"
   ]
  },
  {
   "cell_type": "code",
   "execution_count": 2327,
   "id": "8e2ce9f5",
   "metadata": {},
   "outputs": [
    {
     "data": {
      "text/html": [
       "<div>\n",
       "<style scoped>\n",
       "    .dataframe tbody tr th:only-of-type {\n",
       "        vertical-align: middle;\n",
       "    }\n",
       "\n",
       "    .dataframe tbody tr th {\n",
       "        vertical-align: top;\n",
       "    }\n",
       "\n",
       "    .dataframe thead th {\n",
       "        text-align: right;\n",
       "    }\n",
       "</style>\n",
       "<table border=\"1\" class=\"dataframe\">\n",
       "  <thead>\n",
       "    <tr style=\"text-align: right;\">\n",
       "      <th></th>\n",
       "      <th>Gender</th>\n",
       "      <th>Awards</th>\n",
       "      <th>Department_0</th>\n",
       "      <th>Department_1</th>\n",
       "      <th>Department_2</th>\n",
       "      <th>Department_3</th>\n",
       "      <th>Region_Employment_0</th>\n",
       "      <th>Region_Employment_1</th>\n",
       "      <th>Region_Employment_2</th>\n",
       "      <th>Region_Employment_3</th>\n",
       "      <th>...</th>\n",
       "      <th>Education Level_Below Secondary</th>\n",
       "      <th>Education Level_Master's &amp; above</th>\n",
       "      <th>Recruitment Channel_referred</th>\n",
       "      <th>Recruitment Channel_sourcing</th>\n",
       "      <th>NO_Trainings_LstYear</th>\n",
       "      <th>Age</th>\n",
       "      <th>previous_year_rating</th>\n",
       "      <th>Service Length</th>\n",
       "      <th>Avg_Training_Score</th>\n",
       "      <th>Is Promoted</th>\n",
       "    </tr>\n",
       "  </thead>\n",
       "  <tbody>\n",
       "    <tr>\n",
       "      <th>0</th>\n",
       "      <td>1</td>\n",
       "      <td>0</td>\n",
       "      <td>0</td>\n",
       "      <td>0</td>\n",
       "      <td>0</td>\n",
       "      <td>1</td>\n",
       "      <td>0</td>\n",
       "      <td>0</td>\n",
       "      <td>0</td>\n",
       "      <td>0</td>\n",
       "      <td>...</td>\n",
       "      <td>0.0</td>\n",
       "      <td>1.0</td>\n",
       "      <td>0.0</td>\n",
       "      <td>0.0</td>\n",
       "      <td>1</td>\n",
       "      <td>37.0</td>\n",
       "      <td>2.0</td>\n",
       "      <td>3</td>\n",
       "      <td>67.0</td>\n",
       "      <td>0</td>\n",
       "    </tr>\n",
       "    <tr>\n",
       "      <th>1</th>\n",
       "      <td>0</td>\n",
       "      <td>0</td>\n",
       "      <td>0</td>\n",
       "      <td>0</td>\n",
       "      <td>0</td>\n",
       "      <td>1</td>\n",
       "      <td>0</td>\n",
       "      <td>0</td>\n",
       "      <td>0</td>\n",
       "      <td>0</td>\n",
       "      <td>...</td>\n",
       "      <td>0.0</td>\n",
       "      <td>1.0</td>\n",
       "      <td>0.0</td>\n",
       "      <td>0.0</td>\n",
       "      <td>1</td>\n",
       "      <td>43.0</td>\n",
       "      <td>3.0</td>\n",
       "      <td>17</td>\n",
       "      <td>74.0</td>\n",
       "      <td>0</td>\n",
       "    </tr>\n",
       "    <tr>\n",
       "      <th>2</th>\n",
       "      <td>1</td>\n",
       "      <td>0</td>\n",
       "      <td>0</td>\n",
       "      <td>0</td>\n",
       "      <td>1</td>\n",
       "      <td>0</td>\n",
       "      <td>0</td>\n",
       "      <td>0</td>\n",
       "      <td>0</td>\n",
       "      <td>0</td>\n",
       "      <td>...</td>\n",
       "      <td>0.0</td>\n",
       "      <td>0.0</td>\n",
       "      <td>0.0</td>\n",
       "      <td>0.0</td>\n",
       "      <td>1</td>\n",
       "      <td>31.0</td>\n",
       "      <td>5.0</td>\n",
       "      <td>7</td>\n",
       "      <td>62.0</td>\n",
       "      <td>0</td>\n",
       "    </tr>\n",
       "  </tbody>\n",
       "</table>\n",
       "<p>3 rows × 22 columns</p>\n",
       "</div>"
      ],
      "text/plain": [
       "   Gender  Awards  Department_0  Department_1  Department_2  Department_3  \\\n",
       "0       1       0             0             0             0             1   \n",
       "1       0       0             0             0             0             1   \n",
       "2       1       0             0             0             1             0   \n",
       "\n",
       "   Region_Employment_0  Region_Employment_1  Region_Employment_2  \\\n",
       "0                    0                    0                    0   \n",
       "1                    0                    0                    0   \n",
       "2                    0                    0                    0   \n",
       "\n",
       "   Region_Employment_3  ...  Education Level_Below Secondary  \\\n",
       "0                    0  ...                              0.0   \n",
       "1                    0  ...                              0.0   \n",
       "2                    0  ...                              0.0   \n",
       "\n",
       "   Education Level_Master's & above  Recruitment Channel_referred  \\\n",
       "0                               1.0                           0.0   \n",
       "1                               1.0                           0.0   \n",
       "2                               0.0                           0.0   \n",
       "\n",
       "   Recruitment Channel_sourcing  NO_Trainings_LstYear   Age  \\\n",
       "0                           0.0                     1  37.0   \n",
       "1                           0.0                     1  43.0   \n",
       "2                           0.0                     1  31.0   \n",
       "\n",
       "   previous_year_rating  Service Length  Avg_Training_Score  Is Promoted  \n",
       "0                   2.0               3                67.0            0  \n",
       "1                   3.0              17                74.0            0  \n",
       "2                   5.0               7                62.0            0  \n",
       "\n",
       "[3 rows x 22 columns]"
      ]
     },
     "execution_count": 2327,
     "metadata": {},
     "output_type": "execute_result"
    }
   ],
   "source": [
    "x_train.head(3)"
   ]
  },
  {
   "cell_type": "code",
   "execution_count": 2328,
   "id": "3ef4e611",
   "metadata": {},
   "outputs": [],
   "source": [
    "x_test = pd.concat([x_test_cat , x_test_num] , axis = 1)"
   ]
  },
  {
   "cell_type": "code",
   "execution_count": 2329,
   "id": "5d53f72c",
   "metadata": {
    "scrolled": true
   },
   "outputs": [
    {
     "data": {
      "text/html": [
       "<div>\n",
       "<style scoped>\n",
       "    .dataframe tbody tr th:only-of-type {\n",
       "        vertical-align: middle;\n",
       "    }\n",
       "\n",
       "    .dataframe tbody tr th {\n",
       "        vertical-align: top;\n",
       "    }\n",
       "\n",
       "    .dataframe thead th {\n",
       "        text-align: right;\n",
       "    }\n",
       "</style>\n",
       "<table border=\"1\" class=\"dataframe\">\n",
       "  <thead>\n",
       "    <tr style=\"text-align: right;\">\n",
       "      <th></th>\n",
       "      <th>Gender</th>\n",
       "      <th>Awards</th>\n",
       "      <th>Department_0</th>\n",
       "      <th>Department_1</th>\n",
       "      <th>Department_2</th>\n",
       "      <th>Department_3</th>\n",
       "      <th>Region_Employment_0</th>\n",
       "      <th>Region_Employment_1</th>\n",
       "      <th>Region_Employment_2</th>\n",
       "      <th>Region_Employment_3</th>\n",
       "      <th>...</th>\n",
       "      <th>Education Level_Below Secondary</th>\n",
       "      <th>Education Level_Master's &amp; above</th>\n",
       "      <th>Recruitment Channel_referred</th>\n",
       "      <th>Recruitment Channel_sourcing</th>\n",
       "      <th>NO_Trainings_LstYear</th>\n",
       "      <th>Age</th>\n",
       "      <th>previous_year_rating</th>\n",
       "      <th>Service Length</th>\n",
       "      <th>Avg_Training_Score</th>\n",
       "      <th>Is Promoted</th>\n",
       "    </tr>\n",
       "  </thead>\n",
       "  <tbody>\n",
       "    <tr>\n",
       "      <th>0</th>\n",
       "      <td>1</td>\n",
       "      <td>1</td>\n",
       "      <td>0</td>\n",
       "      <td>0</td>\n",
       "      <td>0</td>\n",
       "      <td>1</td>\n",
       "      <td>0</td>\n",
       "      <td>0</td>\n",
       "      <td>0</td>\n",
       "      <td>0</td>\n",
       "      <td>...</td>\n",
       "      <td>0.0</td>\n",
       "      <td>0.0</td>\n",
       "      <td>0.0</td>\n",
       "      <td>0.0</td>\n",
       "      <td>1</td>\n",
       "      <td>25.0</td>\n",
       "      <td>3.0</td>\n",
       "      <td>1</td>\n",
       "      <td>58.0</td>\n",
       "      <td>0</td>\n",
       "    </tr>\n",
       "    <tr>\n",
       "      <th>1</th>\n",
       "      <td>1</td>\n",
       "      <td>0</td>\n",
       "      <td>0</td>\n",
       "      <td>0</td>\n",
       "      <td>1</td>\n",
       "      <td>0</td>\n",
       "      <td>0</td>\n",
       "      <td>0</td>\n",
       "      <td>0</td>\n",
       "      <td>0</td>\n",
       "      <td>...</td>\n",
       "      <td>0.0</td>\n",
       "      <td>0.0</td>\n",
       "      <td>0.0</td>\n",
       "      <td>0.0</td>\n",
       "      <td>2</td>\n",
       "      <td>25.0</td>\n",
       "      <td>3.0</td>\n",
       "      <td>1</td>\n",
       "      <td>49.0</td>\n",
       "      <td>0</td>\n",
       "    </tr>\n",
       "    <tr>\n",
       "      <th>2</th>\n",
       "      <td>0</td>\n",
       "      <td>0</td>\n",
       "      <td>0</td>\n",
       "      <td>0</td>\n",
       "      <td>1</td>\n",
       "      <td>1</td>\n",
       "      <td>0</td>\n",
       "      <td>0</td>\n",
       "      <td>0</td>\n",
       "      <td>0</td>\n",
       "      <td>...</td>\n",
       "      <td>0.0</td>\n",
       "      <td>1.0</td>\n",
       "      <td>0.0</td>\n",
       "      <td>1.0</td>\n",
       "      <td>1</td>\n",
       "      <td>31.0</td>\n",
       "      <td>5.0</td>\n",
       "      <td>6</td>\n",
       "      <td>67.0</td>\n",
       "      <td>1</td>\n",
       "    </tr>\n",
       "  </tbody>\n",
       "</table>\n",
       "<p>3 rows × 22 columns</p>\n",
       "</div>"
      ],
      "text/plain": [
       "   Gender  Awards  Department_0  Department_1  Department_2  Department_3  \\\n",
       "0       1       1             0             0             0             1   \n",
       "1       1       0             0             0             1             0   \n",
       "2       0       0             0             0             1             1   \n",
       "\n",
       "   Region_Employment_0  Region_Employment_1  Region_Employment_2  \\\n",
       "0                    0                    0                    0   \n",
       "1                    0                    0                    0   \n",
       "2                    0                    0                    0   \n",
       "\n",
       "   Region_Employment_3  ...  Education Level_Below Secondary  \\\n",
       "0                    0  ...                              0.0   \n",
       "1                    0  ...                              0.0   \n",
       "2                    0  ...                              0.0   \n",
       "\n",
       "   Education Level_Master's & above  Recruitment Channel_referred  \\\n",
       "0                               0.0                           0.0   \n",
       "1                               0.0                           0.0   \n",
       "2                               1.0                           0.0   \n",
       "\n",
       "   Recruitment Channel_sourcing  NO_Trainings_LstYear   Age  \\\n",
       "0                           0.0                     1  25.0   \n",
       "1                           0.0                     2  25.0   \n",
       "2                           1.0                     1  31.0   \n",
       "\n",
       "   previous_year_rating  Service Length  Avg_Training_Score  Is Promoted  \n",
       "0                   3.0               1                58.0            0  \n",
       "1                   3.0               1                49.0            0  \n",
       "2                   5.0               6                67.0            1  \n",
       "\n",
       "[3 rows x 22 columns]"
      ]
     },
     "execution_count": 2329,
     "metadata": {},
     "output_type": "execute_result"
    }
   ],
   "source": [
    "x_test.head(3)"
   ]
  },
  {
   "cell_type": "code",
   "execution_count": 2330,
   "id": "a6f125c0",
   "metadata": {},
   "outputs": [],
   "source": [
    "#x_train.to_csv('train.csv' , index = False)\n",
    "#x_test.to_csv('test.csv' , index = False)"
   ]
  },
  {
   "cell_type": "code",
   "execution_count": 2331,
   "id": "6f96f795",
   "metadata": {},
   "outputs": [],
   "source": [
    "y_train = x_train['Is Promoted']\n",
    "x_train.drop(['Is Promoted'] , axis = 1 , inplace = True)"
   ]
  },
  {
   "cell_type": "code",
   "execution_count": 2332,
   "id": "e67e10d1",
   "metadata": {},
   "outputs": [],
   "source": [
    "y_test = x_test['Is Promoted']\n",
    "x_test.drop(['Is Promoted'] , axis = 1 , inplace = True)"
   ]
  },
  {
   "cell_type": "markdown",
   "id": "35365e9a",
   "metadata": {},
   "source": [
    "#### For our lable feature or class (Is Promoted) we find that it is imbalanced class !!"
   ]
  },
  {
   "cell_type": "code",
   "execution_count": 2333,
   "id": "38c48e97",
   "metadata": {},
   "outputs": [
    {
     "data": {
      "text/plain": [
       "0    91.239611\n",
       "1     8.760389\n",
       "Name: Is Promoted, dtype: float64"
      ]
     },
     "execution_count": 2333,
     "metadata": {},
     "output_type": "execute_result"
    }
   ],
   "source": [
    "y_train.value_counts(normalize = True)*100"
   ]
  },
  {
   "cell_type": "markdown",
   "id": "5fbb69e3",
   "metadata": {},
   "source": [
    "###### we have 2 choices UnderSampling , OverSampling \n",
    "* we will performe undersampling"
   ]
  },
  {
   "cell_type": "code",
   "execution_count": 2334,
   "id": "42895f74",
   "metadata": {},
   "outputs": [
    {
     "data": {
      "text/plain": [
       "((36939, 21), (36939,))"
      ]
     },
     "execution_count": 2334,
     "metadata": {},
     "output_type": "execute_result"
    }
   ],
   "source": [
    "x_train.shape , y_train.shape"
   ]
  },
  {
   "cell_type": "code",
   "execution_count": 2335,
   "id": "0d51e1ce",
   "metadata": {},
   "outputs": [],
   "source": [
    "random_sampler = RandomUnderSampler(random_state = 3)"
   ]
  },
  {
   "cell_type": "code",
   "execution_count": 2336,
   "id": "eda2e52c",
   "metadata": {},
   "outputs": [],
   "source": [
    "x_train , y_train = random_sampler.fit_resample(x_train , y_train)"
   ]
  },
  {
   "cell_type": "code",
   "execution_count": 2337,
   "id": "83cc5f3f",
   "metadata": {},
   "outputs": [
    {
     "data": {
      "text/plain": [
       "(6472, 21)"
      ]
     },
     "execution_count": 2337,
     "metadata": {},
     "output_type": "execute_result"
    }
   ],
   "source": [
    "x_train.shape"
   ]
  },
  {
   "cell_type": "code",
   "execution_count": 2338,
   "id": "e696fff7",
   "metadata": {},
   "outputs": [
    {
     "data": {
      "text/plain": [
       "0    50.0\n",
       "1    50.0\n",
       "Name: Is Promoted, dtype: float64"
      ]
     },
     "execution_count": 2338,
     "metadata": {},
     "output_type": "execute_result"
    }
   ],
   "source": [
    "y_train.value_counts(normalize = True)*100"
   ]
  },
  {
   "cell_type": "code",
   "execution_count": null,
   "id": "61f9b3b8",
   "metadata": {},
   "outputs": [],
   "source": []
  }
 ],
 "metadata": {
  "kernelspec": {
   "display_name": "Python 3 (ipykernel)",
   "language": "python",
   "name": "python3"
  },
  "language_info": {
   "codemirror_mode": {
    "name": "ipython",
    "version": 3
   },
   "file_extension": ".py",
   "mimetype": "text/x-python",
   "name": "python",
   "nbconvert_exporter": "python",
   "pygments_lexer": "ipython3",
   "version": "3.10.4"
  }
 },
 "nbformat": 4,
 "nbformat_minor": 5
}
